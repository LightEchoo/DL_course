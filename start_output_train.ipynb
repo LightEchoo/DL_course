{
 "metadata": {
  "kernelspec": {
   "language": "python",
   "display_name": "Python 3",
   "name": "python3"
  },
  "language_info": {
   "name": "python",
   "version": "3.10.13",
   "mimetype": "text/x-python",
   "codemirror_mode": {
    "name": "ipython",
    "version": 3
   },
   "pygments_lexer": "ipython3",
   "nbconvert_exporter": "python",
   "file_extension": ".py"
  },
  "kaggle": {
   "accelerator": "gpu",
   "dataSources": [
    {
     "sourceId": 68978,
     "databundleVersionId": 7709659,
     "sourceType": "competition"
    }
   ],
   "dockerImageVersionId": 30665,
   "isInternetEnabled": true,
   "language": "python",
   "sourceType": "notebook",
   "isGpuEnabled": true
  }
 },
 "nbformat_minor": 4,
 "nbformat": 4,
 "cells": [
  {
   "cell_type": "code",
   "source": [
    "import os\n",
    "\n",
    "import matplotlib.pyplot as plt\n",
    "import numpy as np\n",
    "import pandas as pd\n",
    "import torch\n",
    "import torch.nn as nn\n",
    "import torch.optim as optim\n",
    "from ax.service.ax_client import AxClient\n",
    "from ax.service.utils.instantiation import ObjectiveProperties\n",
    "from sklearn.metrics import accuracy_score, precision_score, recall_score, f1_score\n",
    "from sklearn.model_selection import train_test_split\n",
    "from torch.nn.utils.rnn import pad_sequence\n",
    "from torch.utils.data import Dataset, DataLoader\n",
    "from tqdm import tqdm\n",
    "from ax.utils.notebook.plotting import render\n",
    "from captum.attr import IntegratedGradients"
   ],
   "metadata": {
    "collapsed": false,
    "ExecuteTime": {
     "end_time": "2024-03-18T13:04:48.817682Z",
     "start_time": "2024-03-18T13:04:44.346039Z"
    }
   },
   "execution_count": 4,
   "outputs": []
  },
  {
   "cell_type": "code",
   "outputs": [],
   "source": [
    "# !conda install pytorch==2.2.0 torchvision==0.17.0 torchaudio==2.2.0 pytorch-cuda=12.1 -c pytorch -c nvidia"
   ],
   "metadata": {
    "collapsed": false,
    "ExecuteTime": {
     "end_time": "2024-03-18T13:04:48.833652Z",
     "start_time": "2024-03-18T13:04:48.819173Z"
    }
   },
   "execution_count": 5
  },
  {
   "cell_type": "code",
   "outputs": [],
   "source": [
    "# !pip install ax-platform"
   ],
   "metadata": {
    "collapsed": false,
    "ExecuteTime": {
     "end_time": "2024-03-18T13:04:48.850231Z",
     "start_time": "2024-03-18T13:04:48.834643Z"
    }
   },
   "execution_count": 6
  },
  {
   "cell_type": "code",
   "outputs": [
    {
     "name": "stdout",
     "output_type": "stream",
     "text": [
      "2.2.1\n",
      "CUDA Available: True\n"
     ]
    }
   ],
   "source": [
    "print(torch.__version__)\n",
    "print(\"CUDA Available:\", torch.cuda.is_available())"
   ],
   "metadata": {
    "collapsed": false,
    "ExecuteTime": {
     "end_time": "2024-03-18T13:04:48.896908Z",
     "start_time": "2024-03-18T13:04:48.851738Z"
    }
   },
   "execution_count": 7
  },
  {
   "cell_type": "markdown",
   "source": [
    "# # 1. Observe the data"
   ],
   "metadata": {
    "collapsed": false
   }
  },
  {
   "cell_type": "code",
   "outputs": [],
   "source": [
    "# one_train_pssm = pd.read_csv('deep-learning-for-msc-202324/train/1A0A_3_A_train.csv')\n",
    "# one_train_pssm"
   ],
   "metadata": {
    "collapsed": false,
    "ExecuteTime": {
     "end_time": "2024-03-18T13:04:48.912146Z",
     "start_time": "2024-03-18T13:04:48.898276Z"
    }
   },
   "execution_count": 8
  },
  {
   "cell_type": "code",
   "outputs": [],
   "source": [
    "# seqs_test = pd.read_csv('deep-learning-for-msc-202324/seqs_test.csv')\n",
    "# seqs_test"
   ],
   "metadata": {
    "collapsed": false,
    "ExecuteTime": {
     "end_time": "2024-03-18T13:04:48.927864Z",
     "start_time": "2024-03-18T13:04:48.913151Z"
    }
   },
   "execution_count": 9
  },
  {
   "cell_type": "code",
   "outputs": [],
   "source": [
    "# seqs_train = pd.read_csv('deep-learning-for-msc-202324/seqs_train.csv')\n",
    "# seqs_train"
   ],
   "metadata": {
    "collapsed": false,
    "ExecuteTime": {
     "end_time": "2024-03-18T13:04:48.943170Z",
     "start_time": "2024-03-18T13:04:48.929207Z"
    }
   },
   "execution_count": 10
  },
  {
   "cell_type": "code",
   "outputs": [],
   "source": [
    "# labels_train = pd.read_csv('deep-learning-for-msc-202324/labels_train.csv')\n",
    "# labels_train"
   ],
   "metadata": {
    "collapsed": false,
    "ExecuteTime": {
     "end_time": "2024-03-18T13:04:48.958847Z",
     "start_time": "2024-03-18T13:04:48.944247Z"
    }
   },
   "execution_count": 11
  },
  {
   "cell_type": "markdown",
   "source": [
    "# 2. Define the dataset and data loaders"
   ],
   "metadata": {
    "collapsed": false
   }
  },
  {
   "cell_type": "code",
   "outputs": [],
   "source": [
    "class ProteinDataset(Dataset):\n",
    "    \"\"\"\n",
    "    It is used to load and preprocess the protein sequence and label data. It also reads the PSSM data from the provided files.\n",
    "    \n",
    "    :param seq_file_path: The file path to the sequence data\n",
    "    :type seq_file_path: str\n",
    "    :param pssm_files_path: The directory path to the PSSM files\n",
    "    :type pssm_files_path: str\n",
    "    :param label_file_path: The file path to the label data\n",
    "    :type label_file_path: str\n",
    "    :param indices: The indices of the data to select\n",
    "    :type indices: list\n",
    "    \n",
    "    :return: The protein dataset\n",
    "    :rtype: Dataset\n",
    "    \"\"\"\n",
    "\n",
    "    def __init__(self, seq_file_path, pssm_files_path, label_file_path=None, indices=None):\n",
    "        # Define the amino acid and structure mappings\n",
    "        self.amino_acid_to_ix = {'A': 1, 'C': 2, 'D': 3, 'E': 4, 'F': 5, 'G': 6, 'H': 7, 'I': 8, 'K': 9, 'L': 10,\n",
    "                                 'M': 11, 'N': 12, 'P': 13, 'Q': 14, 'R': 15, 'S': 16, 'T': 17, 'V': 18, 'W': 19,\n",
    "                                 'Y': 20}\n",
    "        self.struct_to_ix = {'H': 0, 'E': 1, 'C': 2}\n",
    "\n",
    "\n",
    "        \n",
    "\n",
    "        # Read the sequence data, and select a subset of the data if indices are provided(train set and val set)\n",
    "        self.seq_data = pd.read_csv(seq_file_path)\n",
    "        self.real_lan = [len(seq) for seq in self.seq_data['SEQUENCE']]\n",
    "        if indices is not None:\n",
    "            self.seq_data = self.seq_data.iloc[indices].reset_index(drop=True)\n",
    "\n",
    "        # Read the PSSM files path\n",
    "        self.pssm_files_path = pssm_files_path\n",
    "\n",
    "        # Read the label data, and select a subset of the data if indices are provided\n",
    "        if label_file_path:\n",
    "            self.label_data = pd.read_csv(label_file_path)\n",
    "            if indices is not None:\n",
    "                self.label_data = self.label_data.iloc[indices].reset_index(drop=True)\n",
    "        else:\n",
    "            self.label_data = None\n",
    "\n",
    "    def __len__(self):\n",
    "        return len(self.seq_data)\n",
    "\n",
    "    def __getitem__(self, idx):\n",
    "        \"\"\"\n",
    "        It is used to get the sequence, label, and PSSM data for a given index.\n",
    "        \n",
    "        :param idx: The index of the data to retrieve \n",
    "        :type idx: int\n",
    "        :return: The sequence, label, and PSSM data\n",
    "        :rtype: dict\n",
    "        \"\"\"\n",
    "        pdb_id = self.seq_data.iloc[idx, 0]\n",
    "        sequence = self.seq_data.iloc[idx, 1]\n",
    "        sequence_encoded = [self.amino_acid_to_ix[aa] for aa in sequence]\n",
    "\n",
    "        if self.label_data is not None:\n",
    "            label_sequence = self.label_data[self.label_data['PDB_ID'] == pdb_id].iloc[0, 1]\n",
    "            label_encoded = [self.struct_to_ix[label] for label in label_sequence]\n",
    "        else:\n",
    "            label_encoded = [-1] * len(sequence)  # 使用 -1 作为未知标签的占位符\n",
    "\n",
    "        pssm_file_path = os.path.join(self.pssm_files_path, f\"{pdb_id}_test.csv\" if self.label_data is None else f\"{pdb_id}_train.csv\")\n",
    "        pssm_data = pd.read_csv(pssm_file_path).iloc[:, 2:].to_numpy()\n",
    "\n",
    "        return {\n",
    "            'pdb_id': pdb_id,\n",
    "            'sequence': torch.tensor(sequence_encoded, dtype=torch.long),\n",
    "            'labels': torch.tensor(label_encoded, dtype=torch.long),\n",
    "            'pssm': torch.tensor(pssm_data, dtype=torch.float),\n",
    "            'real_len': self.real_lan[idx]\n",
    "        }"
   ],
   "metadata": {
    "collapsed": false,
    "ExecuteTime": {
     "end_time": "2024-03-18T13:04:48.974899Z",
     "start_time": "2024-03-18T13:04:48.959837Z"
    }
   },
   "execution_count": 12
  },
  {
   "cell_type": "code",
   "outputs": [],
   "source": [
    "def protein_collate_fn(batch):\n",
    "    \"\"\"\n",
    "    It is used to process and prepare batched data during data loading. The DataLoader object can accept a function through the collate_fn parameter to customize how to combine multiple samples into a batch. This is particularly useful when dealing with sequence data, as the lengths of sequence data are often not consistent and need to be padded or otherwise processed to ensure that all data in a batch have consistent dimensions.\n",
    "    :param batch: The batch of data to process\n",
    "    :type batch: int\n",
    "    :return: A dictionary containing the processed batched data\n",
    "    :rtype: dict\n",
    "    \"\"\"\n",
    "    sequences, labels, pssms, pdb_ids, real_lens = zip(*[(sample['sequence'], sample['labels'], sample['pssm'], sample['pdb_id'], sample['real_len']) for sample in batch])\n",
    "\n",
    "\n",
    "    # Pad sequence and label data\n",
    "    sequences_padded = pad_sequence(sequences, batch_first=True)\n",
    "    labels_padded = pad_sequence(labels, batch_first=True)\n",
    "\n",
    "    # Pad PSSM data\n",
    "    pssms_padded = pad_sequence(pssms, batch_first=True, padding_value=-1)  # Use -1 to pad the PSSM data\n",
    "\n",
    "    return {'sequence': sequences_padded,\n",
    "            'labels': labels_padded,\n",
    "            'pssm': pssms_padded,\n",
    "            'pdb_id': pdb_ids,\n",
    "            'real_len': torch.tensor(real_lens)}"
   ],
   "metadata": {
    "collapsed": false,
    "ExecuteTime": {
     "end_time": "2024-03-18T13:04:48.990885Z",
     "start_time": "2024-03-18T13:04:48.976899Z"
    }
   },
   "execution_count": 13
  },
  {
   "cell_type": "code",
   "outputs": [],
   "source": [
    "def get_data_loaders(batch_size):\n",
    "    \"\"\"\n",
    "    It is used to create training and validation data loaders for the protein secondary structure prediction model. The function loads the sequence data, label data, and PSSM data, and then creates a training and validation split of the data. The function then creates data loaders for the training and validation data.\n",
    "    :param batch_size: batch size for the data loaders\n",
    "    :type batch_size: int\n",
    "    :return: a tuple containing the training and validation data loaders\n",
    "    :rtype: tuple\n",
    "    \"\"\"\n",
    "    seqs_file_path = 'kaggle/input/deep-learning-for-msc-202324/seqs_train.csv'\n",
    "    label_file_path = 'kaggle/input/deep-learning-for-msc-202324/labels_train.csv'\n",
    "    pssm_files_path = 'kaggle/input/deep-learning-for-msc-202324/train/'\n",
    "\n",
    "    # load the sequence data and generate a list of PDB IDs\n",
    "    seqs_data = pd.read_csv(seqs_file_path)\n",
    "    # pdb_ids = seqs_data['PDB_ID'].tolist()\n",
    "    indices = range(len(seqs_data))\n",
    "\n",
    "    # split the PDB_ID list into training and validation sets\n",
    "    pdb_ids_train, pdb_ids_val = train_test_split(indices, test_size=0.2, random_state=10)\n",
    "\n",
    "    # create training and validation data loaders\n",
    "    dataset_train = ProteinDataset(seqs_file_path, pssm_files_path, label_file_path, pdb_ids_train)\n",
    "    dataset_val = ProteinDataset(seqs_file_path, pssm_files_path, label_file_path, pdb_ids_val)\n",
    "\n",
    "    # create data loaders for training and validation\n",
    "    dataloader_train = DataLoader(dataset_train, batch_size=batch_size, shuffle=True, collate_fn=protein_collate_fn,\n",
    "                                  pin_memory=True)\n",
    "    dataloader_val = DataLoader(dataset_val, batch_size=batch_size, shuffle=False, collate_fn=protein_collate_fn,\n",
    "                                pin_memory=True)\n",
    "\n",
    "    return dataloader_train, dataloader_val"
   ],
   "metadata": {
    "collapsed": false,
    "ExecuteTime": {
     "end_time": "2024-03-18T13:04:49.006754Z",
     "start_time": "2024-03-18T13:04:48.991516Z"
    }
   },
   "execution_count": 14
  },
  {
   "cell_type": "markdown",
   "source": [
    "# 3. Design the model(Fully Convolutional Networks, FCN)"
   ],
   "metadata": {
    "collapsed": false
   }
  },
  {
   "cell_type": "code",
   "outputs": [],
   "source": [
    "class ProteinSecondaryStructureFCNwithEmbedding(nn.Module):\n",
    "    \"\"\"\n",
    "    It is used to define a fully convolutional neural network (FCN) model for protein secondary structure prediction. The model uses an embedding layer to embed the amino acid sequence data, and then concatenates the embedded sequence data with the PSSM data before applying convolutional layers to learn features from the data. The model outputs a sequence of predictions for the secondary structure of the protein.\n",
    "    \"\"\"\n",
    "\n",
    "    def __init__(self, embedding_dim=10, dropout_rate=0.5):\n",
    "        num_amino_acids = 20\n",
    "        num_pssm_features = 20\n",
    "        num_classes = 3\n",
    "        super(ProteinSecondaryStructureFCNwithEmbedding, self).__init__()\n",
    "        self.embedding = nn.Embedding(num_embeddings=num_amino_acids + 1,\n",
    "                                      embedding_dim=embedding_dim)\n",
    "\n",
    "        # convolutional layers\n",
    "        self.layer1 = nn.Sequential(nn.Conv1d(embedding_dim + num_pssm_features, 64, kernel_size=5, padding=2),\n",
    "                                    nn.ReLU(), nn.BatchNorm1d(64), nn.Dropout(dropout_rate))\n",
    "        self.layer2 = nn.Sequential(nn.Conv1d(64, 128, kernel_size=5, padding=2), nn.ReLU(), nn.BatchNorm1d(128),\n",
    "                                    nn.Dropout(dropout_rate))\n",
    "        self.layer3 = nn.Sequential(nn.Conv1d(128, 256, kernel_size=5, padding=2), nn.ReLU(), nn.BatchNorm1d(256),\n",
    "                                    nn.Dropout(dropout_rate))\n",
    "        self.layer4 = nn.Sequential(nn.Conv1d(256, 512, kernel_size=5, padding=2), nn.ReLU(), nn.BatchNorm1d(512),\n",
    "                                    nn.Dropout(dropout_rate))\n",
    "        self.output_layer = nn.Conv1d(512, num_classes, kernel_size=1)\n",
    "\n",
    "    def forward(self, sequence, pssm):\n",
    "        # sequence: [batch_size, seq_len]\n",
    "        # pssm: [batch_size, seq_len, num_pssm_features]\n",
    "\n",
    "        # embed the sequence\n",
    "        embedded_sequence = self.embedding(sequence)  # [batch_size, seq_len, embedding_dim]\n",
    "\n",
    "        # adjust the dimensions of the embedded sequence to be concatenated with the PSSM\n",
    "        embedded_sequence = embedded_sequence.permute(0, 2, 1)  # [batch_size, embedding_dim, seq_len]\n",
    "\n",
    "        # concatenate the embedded sequence and PSSM data\n",
    "        combined_input = torch.cat((embedded_sequence, pssm.permute(0, 2, 1)),\n",
    "                                   dim=1)  # [batch_size, embedding_dim+num_pssm_features, seq_len]\n",
    "\n",
    "        # apply the network layers\n",
    "        out = self.layer1(combined_input)\n",
    "        out = self.layer2(out)\n",
    "        out = self.layer3(out)\n",
    "        out = self.layer4(out)\n",
    "        out = self.output_layer(out)\n",
    "\n",
    "        return out.permute(0, 2, 1)  # [batch_size, seq_len, num_classes]"
   ],
   "metadata": {
    "collapsed": false,
    "ExecuteTime": {
     "end_time": "2024-03-18T13:04:49.022081Z",
     "start_time": "2024-03-18T13:04:49.008231Z"
    }
   },
   "execution_count": 15
  },
  {
   "cell_type": "code",
   "outputs": [],
   "source": [
    "def train_model(batch_size=4, num_epochs=10, embedding_dim=10, dropout_rate=0.5, lr=0.0001):\n",
    "    \"\"\"\n",
    "    It is used to train the protein secondary structure prediction model. The function creates the data loaders, initializes the model, loss function, and optimizer, and then trains the model for the specified number of epochs. The function returns the trained model and the training and validation performance metrics.\n",
    "    :param batch_size: batch size for the data loaders\n",
    "    :type batch_size: int\n",
    "    :param num_epochs: the number of epochs to train the model\n",
    "    :type num_epochs: int\n",
    "    :param embedding_dim: the dimension of the embedding layer\n",
    "    :type embedding_dim: int\n",
    "    :param dropout_rate: the dropout rate for the model\n",
    "    :type dropout_rate: float\n",
    "    :param lr: the learning rate for the optimizer\n",
    "    :type lr: float\n",
    "    :return: a dictionary containing the trained model and the training and validation performance metrics\n",
    "    :rtype: dict\n",
    "    \"\"\"\n",
    "    train_loader, val_loader = get_data_loaders(batch_size)\n",
    "    model = ProteinSecondaryStructureFCNwithEmbedding(embedding_dim=embedding_dim, dropout_rate=dropout_rate).to(device)\n",
    "    criterion = nn.CrossEntropyLoss(ignore_index=-1)  # Cross entropy loss function for classification problems\n",
    "    optimizer = optim.Adam(model.parameters(), lr=lr)  # Adam optimizer\n",
    "\n",
    "    # initialize lists to store performance metrics\n",
    "    metrics = {\n",
    "        'train_loss': [],\n",
    "        'train_accuracy': [],\n",
    "        'train_precision': [],\n",
    "        'train_recall': [],\n",
    "        'train_f1': [],\n",
    "        'val_loss': [],\n",
    "        'val_accuracy': [],\n",
    "        'val_precision': [],\n",
    "        'val_recall': [],\n",
    "        'val_f1': []\n",
    "    }\n",
    "\n",
    "    for epoch in range(num_epochs):\n",
    "        model.train()  # Set the model to training mode\n",
    "\n",
    "        train_losses, train_true, train_pred = [], [], []\n",
    "\n",
    "        # Training loop\n",
    "        for batch in tqdm(train_loader, desc=f\"Training Epoch {epoch + 1}/{num_epochs}\"):\n",
    "            sequences = batch['sequence'].to(device)\n",
    "            labels = batch['labels'].to(device)\n",
    "            pssms = batch['pssm'].to(device)\n",
    "\n",
    "            # Forward pass\n",
    "            outputs = model(sequences, pssms)\n",
    "            loss = criterion(outputs.reshape(-1, 3), labels.reshape(-1))\n",
    "\n",
    "            # Backward pass and optimization\n",
    "            optimizer.zero_grad()\n",
    "            loss.backward()\n",
    "            optimizer.step()\n",
    "\n",
    "            # Track the training loss\n",
    "            train_losses.append(loss.item())\n",
    "            _, predicted = torch.max(outputs, 2)\n",
    "            train_true.extend(labels.view(-1).cpu().numpy())\n",
    "            train_pred.extend(predicted.view(-1).cpu().numpy())\n",
    "\n",
    "        # Calculate the training performance metrics\n",
    "        metrics['train_loss'].append(np.mean(train_losses))\n",
    "        metrics['train_accuracy'].append(accuracy_score(train_true, train_pred))\n",
    "        metrics['train_precision'].append(precision_score(train_true, train_pred, average='macro', zero_division=0))\n",
    "        metrics['train_recall'].append(recall_score(train_true, train_pred, average='macro', zero_division=0))\n",
    "        metrics['train_f1'].append(f1_score(train_true, train_pred, average='macro', zero_division=0))\n",
    "\n",
    "        print(\n",
    "            f'Epoch [{epoch + 1}/{num_epochs}], Train Loss: {metrics[\"train_loss\"][-1]:.4f}, Train Accuracy: {metrics[\"train_accuracy\"][-1]:.4f}, Train Precision: {metrics[\"train_precision\"][-1]:.4f}, Train Recall: {metrics[\"train_recall\"][-1]:.4f}, Train F1: {metrics[\"train_f1\"][-1]:.4f}')\n",
    "        \n",
    "        torch.cuda.empty_cache()  # clean up CUDA memory\n",
    "\n",
    "        # Validation loop\n",
    "        model.eval()  # Set the model to evaluation mode\n",
    "        val_losses, val_true, val_pred = [], [], []\n",
    "\n",
    "        with torch.no_grad():\n",
    "            for batch in val_loader:\n",
    "                sequences = batch['sequence'].to(device)\n",
    "                labels = batch['labels'].to(device)\n",
    "                pssms = batch['pssm'].to(device)\n",
    "\n",
    "                # Forward pass\n",
    "                outputs = model(sequences, pssms)\n",
    "                loss = criterion(outputs.reshape(-1, 3), labels.reshape(-1))\n",
    "\n",
    "                # Track the validation loss\n",
    "                val_losses.append(loss.item())\n",
    "                _, predicted = torch.max(outputs, 2)\n",
    "                val_true.extend(labels.view(-1).cpu().numpy())\n",
    "                val_pred.extend(predicted.view(-1).cpu().numpy())\n",
    "\n",
    "        # Calculate the validation performance metrics\n",
    "        metrics['val_loss'].append(np.mean(val_losses))\n",
    "        metrics['val_accuracy'].append(accuracy_score(val_true, val_pred))\n",
    "        metrics['val_precision'].append(precision_score(val_true, val_pred, average='macro', zero_division=0))\n",
    "        metrics['val_recall'].append(recall_score(val_true, val_pred, average='macro', zero_division=0))\n",
    "        metrics['val_f1'].append(f1_score(val_true, val_pred, average='macro', zero_division=0))\n",
    "\n",
    "        print(\n",
    "            f'Epoch [{epoch + 1}/{num_epochs}], Validation Loss: {metrics[\"val_loss\"][-1]:.4f}, Validation Accuracy: {metrics[\"val_accuracy\"][-1]:.4f}, Validation Precision: {metrics[\"val_precision\"][-1]:.4f}, Validation Recall: {metrics[\"val_recall\"][-1]:.4f}, Validation F1: {metrics[\"val_f1\"][-1]:.4f}')\n",
    "        \n",
    "        # torch.cuda.empty_cache()  # clean up CUDA memory\n",
    "        \n",
    "    return {'model': model, 'metrics': metrics}"
   ],
   "metadata": {
    "collapsed": false,
    "ExecuteTime": {
     "end_time": "2024-03-18T13:04:49.038016Z",
     "start_time": "2024-03-18T13:04:49.023081Z"
    }
   },
   "execution_count": 16
  },
  {
   "cell_type": "markdown",
   "source": [
    "# 4. Train the model and evaluate the performance"
   ],
   "metadata": {
    "collapsed": false
   }
  },
  {
   "cell_type": "code",
   "outputs": [
    {
     "data": {
      "text/plain": "True"
     },
     "execution_count": 17,
     "metadata": {},
     "output_type": "execute_result"
    }
   ],
   "source": [
    "torch.cuda.is_available()"
   ],
   "metadata": {
    "collapsed": false,
    "ExecuteTime": {
     "end_time": "2024-03-18T13:04:49.054109Z",
     "start_time": "2024-03-18T13:04:49.039010Z"
    }
   },
   "execution_count": 17
  },
  {
   "cell_type": "code",
   "outputs": [],
   "source": [
    "device = torch.device('cuda' if torch.cuda.is_available() else 'cpu')"
   ],
   "metadata": {
    "collapsed": false,
    "ExecuteTime": {
     "end_time": "2024-03-18T13:04:49.070296Z",
     "start_time": "2024-03-18T13:04:49.055108Z"
    }
   },
   "execution_count": 18
  },
  {
   "cell_type": "code",
   "outputs": [
    {
     "data": {
      "text/plain": "device(type='cuda')"
     },
     "execution_count": 19,
     "metadata": {},
     "output_type": "execute_result"
    }
   ],
   "source": [
    "device"
   ],
   "metadata": {
    "collapsed": false,
    "ExecuteTime": {
     "end_time": "2024-03-18T13:04:49.085969Z",
     "start_time": "2024-03-18T13:04:49.071548Z"
    }
   },
   "execution_count": 19
  },
  {
   "cell_type": "code",
   "outputs": [],
   "source": [
    "# # Ensure you have defined and instantiated your DataLoader here\n",
    "# train_rsults = train_model(batch_size=32, num_epochs=10, embedding_dim=15, dropout_rate=0.234673, lr=0.000143)"
   ],
   "metadata": {
    "execution": {
     "iopub.status.busy": "2024-03-16T17:34:38.637421Z",
     "iopub.execute_input": "2024-03-16T17:34:38.637937Z"
    },
    "trusted": true,
    "ExecuteTime": {
     "end_time": "2024-03-18T13:04:49.101902Z",
     "start_time": "2024-03-18T13:04:49.088150Z"
    }
   },
   "execution_count": 20
  },
  {
   "cell_type": "code",
   "outputs": [],
   "source": [
    "# display(train_rsults['model'])"
   ],
   "metadata": {
    "collapsed": false,
    "ExecuteTime": {
     "end_time": "2024-03-18T13:04:49.117983Z",
     "start_time": "2024-03-18T13:04:49.102894Z"
    }
   },
   "execution_count": 21
  },
  {
   "cell_type": "code",
   "outputs": [],
   "source": [
    "# # Save the trained model\n",
    "# torch.save(train_rsults['model'].state_dict(), 'prediction_model_default_para.pth')"
   ],
   "metadata": {
    "collapsed": false,
    "ExecuteTime": {
     "end_time": "2024-03-18T13:04:49.133015Z",
     "start_time": "2024-03-18T13:04:49.118984Z"
    }
   },
   "execution_count": 22
  },
  {
   "cell_type": "code",
   "outputs": [],
   "source": [
    "def plot_loss_accuracy_history(metrics):\n",
    "    \"\"\"\n",
    "    绘制训练和验证损失及准确率的趋势图。\n",
    "    \"\"\"\n",
    "    train_loss_history = metrics['train_loss']\n",
    "    val_loss_history = metrics['val_loss']\n",
    "    train_accuracy_history = metrics['train_accuracy']\n",
    "    val_accuracy_history = metrics['val_accuracy']\n",
    "    \n",
    "    epochs = range(1, len(train_loss_history) + 1)\n",
    "\n",
    "    plt.figure(figsize=(12, 6))\n",
    "    plt.subplot(1, 2, 1)\n",
    "    plt.plot(epochs, train_loss_history, label='Train Loss')\n",
    "    plt.plot(epochs, val_loss_history, label='Validation Loss')\n",
    "    plt.title('Loss History')\n",
    "    plt.xlabel('Epoch')\n",
    "    plt.ylabel('Loss')\n",
    "    plt.legend()\n",
    "\n",
    "    plt.subplot(1, 2, 2)\n",
    "    plt.plot(epochs, train_accuracy_history, label='Train Accuracy')\n",
    "    plt.plot(epochs, val_accuracy_history, label='Validation Accuracy')\n",
    "    plt.title('Accuracy History')\n",
    "    plt.xlabel('Epoch')\n",
    "    plt.ylabel('Accuracy')\n",
    "    plt.legend()\n",
    "\n",
    "    plt.tight_layout()\n",
    "    plt.savefig('loss_accuracy_history.png')\n",
    "    plt.show()"
   ],
   "metadata": {
    "collapsed": false,
    "ExecuteTime": {
     "end_time": "2024-03-18T14:35:30.906255Z",
     "start_time": "2024-03-18T14:35:30.891537Z"
    }
   },
   "execution_count": 49
  },
  {
   "cell_type": "code",
   "outputs": [],
   "source": [
    "# display(train_rsults['metrics'])"
   ],
   "metadata": {
    "collapsed": false,
    "ExecuteTime": {
     "end_time": "2024-03-18T13:04:49.164746Z",
     "start_time": "2024-03-18T13:04:49.150029Z"
    }
   },
   "execution_count": 24
  },
  {
   "cell_type": "code",
   "source": [
    "# plot_loss_accuracy_history(train_rsults['metrics'])"
   ],
   "metadata": {
    "ExecuteTime": {
     "end_time": "2024-03-18T13:04:49.179858Z",
     "start_time": "2024-03-18T13:04:49.165746Z"
    }
   },
   "execution_count": 25,
   "outputs": []
  },
  {
   "cell_type": "markdown",
   "source": [
    "# 5. Hyperparameter optimization with Ax"
   ],
   "metadata": {
    "collapsed": false
   }
  },
  {
   "cell_type": "code",
   "outputs": [],
   "source": [
    "def train_evaluate(parameterization):\n",
    "    \"\"\"\n",
    "    It is used to train and evaluate the protein secondary structure prediction model with the given hyperparameters.\n",
    "    :param parameterization: A dictionary containing the hyperparameters to use for training and evaluation\n",
    "    :type parameterization: dict\n",
    "    :return: A dictionary containing the validation performance metrics\n",
    "    :rtype: dict\n",
    "    \"\"\"\n",
    "    # extract the hyperparameters from the parameterization\n",
    "    learning_rate = parameterization[\"lr\"]\n",
    "    dropout_rate = parameterization[\"dropout_rate\"]\n",
    "    batch_size = parameterization[\"batch_size\"]\n",
    "    embedding_dim = parameterization[\"embedding_dim\"]\n",
    "\n",
    "    # use the extracted hyperparameters to train and evaluate the model\n",
    "    metrics = \\\n",
    "        train_model(batch_size=batch_size, embedding_dim=embedding_dim, dropout_rate=dropout_rate, lr=learning_rate)[\n",
    "            'metrics']\n",
    "\n",
    "    val_loss = metrics['val_loss'][-1]\n",
    "    val_accuracy = metrics['val_accuracy'][-1]\n",
    "    val_precision = metrics['val_precision'][-1]\n",
    "    val_recall = metrics['val_recall'][-1]\n",
    "    val_f1 = metrics['val_f1'][-1]\n",
    "\n",
    "    return {\"val_loss\": (val_loss, 0.0), \"val_accuracy\": (val_accuracy, 0.0), \"val_precision\": (val_precision, 0.0),\n",
    "            \"val_recall\": (val_recall, 0.0), \"val_f1\": (val_f1, 0.0)}"
   ],
   "metadata": {
    "collapsed": false,
    "ExecuteTime": {
     "end_time": "2024-03-18T13:04:49.195745Z",
     "start_time": "2024-03-18T13:04:49.180864Z"
    }
   },
   "execution_count": 26
  },
  {
   "cell_type": "code",
   "outputs": [],
   "source": [
    "# ax_client = AxClient()\n",
    "# ax_client.create_experiment(\n",
    "#     name=\"protein_structure_prediction_experiment\",\n",
    "#     parameters=[\n",
    "#         {\"name\": \"lr\", \"type\": \"range\", \"bounds\": [5e-4, 3e-3], \"log_scale\": True},\n",
    "#         {\"name\": \"dropout_rate\", \"type\": \"range\", \"bounds\": [0.15, 0.2]},\n",
    "#         {\"name\": \"batch_size\", \"type\": \"choice\", \"values\": [32, 64]},\n",
    "#         {\"name\": \"embedding_dim\", \"type\": \"choice\", \"values\": [4, 5, 6, 7]},\n",
    "#     ],\n",
    "#     objectives={\"val_loss\": ObjectiveProperties(minimize=True)},\n",
    "#     tracking_metric_names=[\"val_accuracy\", \"val_precision\", \"val_recall\", \"val_f1\"],\n",
    "# )\n"
   ],
   "metadata": {
    "collapsed": false,
    "ExecuteTime": {
     "end_time": "2024-03-18T13:04:49.211635Z",
     "start_time": "2024-03-18T13:04:49.197223Z"
    }
   },
   "execution_count": 27
  },
  {
   "cell_type": "code",
   "outputs": [],
   "source": [
    "# times_ax = 10\n",
    "# for i in range(times_ax):\n",
    "#     print(f\"Running optimization iteration {i+1}/{times_ax}...\")\n",
    "#     parameters, trial_index = ax_client.get_next_trial()\n",
    "#     ax_client.complete_trial(trial_index=trial_index, raw_data=train_evaluate(parameters)) "
   ],
   "metadata": {
    "collapsed": false,
    "ExecuteTime": {
     "end_time": "2024-03-18T13:04:49.226998Z",
     "start_time": "2024-03-18T13:04:49.212934Z"
    }
   },
   "execution_count": 28
  },
  {
   "cell_type": "code",
   "outputs": [],
   "source": [
    "# best_parameters_with_eval_value = ax_client.get_best_parameters()\n",
    "# display(best_parameters_with_eval_value)"
   ],
   "metadata": {
    "collapsed": false,
    "ExecuteTime": {
     "end_time": "2024-03-18T13:04:49.241886Z",
     "start_time": "2024-03-18T13:04:49.228002Z"
    }
   },
   "execution_count": 29
  },
  {
   "cell_type": "code",
   "outputs": [],
   "source": [
    "# best_parameters = best_parameters_with_eval_value[0]"
   ],
   "metadata": {
    "collapsed": false,
    "ExecuteTime": {
     "end_time": "2024-03-18T13:04:49.256887Z",
     "start_time": "2024-03-18T13:04:49.243024Z"
    }
   },
   "execution_count": 30
  },
  {
   "cell_type": "markdown",
   "source": [
    "Show the best parameters after ax"
   ],
   "metadata": {
    "collapsed": false
   }
  },
  {
   "cell_type": "code",
   "outputs": [],
   "source": [
    "# best_parameters"
   ],
   "metadata": {
    "collapsed": false,
    "ExecuteTime": {
     "end_time": "2024-03-18T13:04:49.272499Z",
     "start_time": "2024-03-18T13:04:49.259974Z"
    }
   },
   "execution_count": 31
  },
  {
   "cell_type": "markdown",
   "source": [
    "After 80+ times of optimization, the best parameters are:\n",
    "{'lr': 0.0010683100009095904,\n",
    " 'dropout_rate': 0.1748906408059711,\n",
    " 'batch_size': 64,\n",
    " 'embedding_dim': 7}"
   ],
   "metadata": {
    "collapsed": false
   }
  },
  {
   "cell_type": "code",
   "outputs": [],
   "source": [
    "# results_df = ax_client.get_trials_data_frame()\n",
    "# results_df"
   ],
   "metadata": {
    "collapsed": false,
    "ExecuteTime": {
     "end_time": "2024-03-18T13:04:49.288520Z",
     "start_time": "2024-03-18T13:04:49.273499Z"
    }
   },
   "execution_count": 32
  },
  {
   "cell_type": "code",
   "outputs": [],
   "source": [
    "# results_df.to_csv('10_trials_2_results.csv', index=False)"
   ],
   "metadata": {
    "collapsed": false,
    "ExecuteTime": {
     "end_time": "2024-03-18T13:04:49.304013Z",
     "start_time": "2024-03-18T13:04:49.290025Z"
    }
   },
   "execution_count": 33
  },
  {
   "cell_type": "markdown",
   "source": [
    "Plotting to aid in parameterisation"
   ],
   "metadata": {
    "collapsed": false
   }
  },
  {
   "cell_type": "code",
   "outputs": [],
   "source": [
    "# render(ax_client.get_contour_plot(param_x=\"lr\", param_y=\"dropout_rate\", metric_name=\"val_accuracy\"))"
   ],
   "metadata": {
    "collapsed": false,
    "ExecuteTime": {
     "end_time": "2024-03-18T13:04:49.320074Z",
     "start_time": "2024-03-18T13:04:49.305061Z"
    }
   },
   "execution_count": 34
  },
  {
   "cell_type": "code",
   "outputs": [],
   "source": [
    "# render(ax_client.get_contour_plot(param_x=\"dropout_rate\", param_y=\"embedding_dim\", metric_name=\"val_accuracy\"))"
   ],
   "metadata": {
    "collapsed": false,
    "ExecuteTime": {
     "end_time": "2024-03-18T13:04:49.335707Z",
     "start_time": "2024-03-18T13:04:49.320787Z"
    }
   },
   "execution_count": 35
  },
  {
   "cell_type": "code",
   "outputs": [],
   "source": [
    "# render(ax_client.get_contour_plot(param_x=\"lr\", param_y=\"embedding_dim\", metric_name=\"val_accuracy\"))"
   ],
   "metadata": {
    "collapsed": false,
    "ExecuteTime": {
     "end_time": "2024-03-18T13:04:49.351625Z",
     "start_time": "2024-03-18T13:04:49.336692Z"
    }
   },
   "execution_count": 36
  },
  {
   "cell_type": "code",
   "outputs": [],
   "source": [
    "# render(ax_client.get_optimization_trace())"
   ],
   "metadata": {
    "collapsed": false,
    "ExecuteTime": {
     "end_time": "2024-03-18T13:04:49.367683Z",
     "start_time": "2024-03-18T13:04:49.352626Z"
    }
   },
   "execution_count": 37
  },
  {
   "cell_type": "code",
   "outputs": [],
   "source": [
    "# from ax.plot.slice import plot_slice\n",
    "# render(plot_slice(\n",
    "#     model=ax_client.generation_strategy.model,\n",
    "#     param_name='lr',\n",
    "#     metric_name='val_accuracy'\n",
    "# ))"
   ],
   "metadata": {
    "collapsed": false,
    "ExecuteTime": {
     "end_time": "2024-03-18T13:04:49.383178Z",
     "start_time": "2024-03-18T13:04:49.368684Z"
    }
   },
   "execution_count": 38
  },
  {
   "cell_type": "code",
   "outputs": [],
   "source": [
    "# render(plot_slice(\n",
    "#     model=ax_client.generation_strategy.model,\n",
    "#     param_name='embedding_dim',\n",
    "#     metric_name='val_accuracy'\n",
    "# ))"
   ],
   "metadata": {
    "collapsed": false,
    "ExecuteTime": {
     "end_time": "2024-03-18T13:04:49.398354Z",
     "start_time": "2024-03-18T13:04:49.384285Z"
    }
   },
   "execution_count": 39
  },
  {
   "cell_type": "code",
   "outputs": [],
   "source": [
    "# render(plot_slice(\n",
    "#     model=ax_client.generation_strategy.model,\n",
    "#     param_name='dropout_rate',\n",
    "#     metric_name='val_accuracy'\n",
    "# ))"
   ],
   "metadata": {
    "collapsed": false,
    "ExecuteTime": {
     "end_time": "2024-03-18T13:04:49.413975Z",
     "start_time": "2024-03-18T13:04:49.399860Z"
    }
   },
   "execution_count": 40
  },
  {
   "cell_type": "markdown",
   "source": [
    "# 6. Train the model with the best hyperparameters and make predictions of the test set"
   ],
   "metadata": {
    "collapsed": false
   }
  },
  {
   "cell_type": "code",
   "outputs": [],
   "source": [
    "best_parameters = {'lr': 0.0015518165052243,\n",
    "                   'dropout_rate': 0.1858316733276795,\n",
    "                   'batch_size': 64,\n",
    "                   'embedding_dim': 7}"
   ],
   "metadata": {
    "collapsed": false,
    "ExecuteTime": {
     "end_time": "2024-03-18T13:04:49.429116Z",
     "start_time": "2024-03-18T13:04:49.414967Z"
    }
   },
   "execution_count": 41
  },
  {
   "cell_type": "code",
   "outputs": [],
   "source": [
    "def test_train(best_parameters):\n",
    "\n",
    "    batch_size = best_parameters['batch_size']\n",
    "    embedding_dim = best_parameters['embedding_dim']\n",
    "    dropout_rate = best_parameters['dropout_rate']\n",
    "    lr = best_parameters['lr']\n",
    "    num_epochs = 150\n",
    "\n",
    "    best_results = train_model(batch_size=batch_size, num_epochs=num_epochs, embedding_dim=embedding_dim, dropout_rate=dropout_rate, lr=lr)\n",
    "    \n",
    "    # save the trained model\n",
    "    filename = f\"{batch_size}_{num_epochs}_{embedding_dim}_{dropout_rate}_{lr}\"\n",
    "    torch.save(best_results['model'].state_dict(), f'{filename}.pth')\n",
    "    \n",
    "    return best_results, filename    "
   ],
   "metadata": {
    "collapsed": false,
    "ExecuteTime": {
     "end_time": "2024-03-18T14:38:13.102591Z",
     "start_time": "2024-03-18T14:38:13.088978Z"
    }
   },
   "execution_count": 51
  },
  {
   "cell_type": "code",
   "outputs": [
    {
     "name": "stderr",
     "output_type": "stream",
     "text": [
      "Training Epoch 1/150: 100%|██████████| 90/90 [00:22<00:00,  4.01it/s]\n"
     ]
    },
    {
     "name": "stdout",
     "output_type": "stream",
     "text": [
      "Epoch [1/150], Train Loss: 0.5397, Train Accuracy: 0.8756, Train Precision: 0.6231, Train Recall: 0.6663, Train F1: 0.6419\n",
      "Epoch [1/150], Validation Loss: 0.3293, Validation Accuracy: 0.9067, Validation Precision: 0.7582, Validation Recall: 0.7047, Validation F1: 0.7286\n"
     ]
    },
    {
     "name": "stderr",
     "output_type": "stream",
     "text": [
      "Training Epoch 2/150: 100%|██████████| 90/90 [00:20<00:00,  4.34it/s]\n"
     ]
    },
    {
     "name": "stdout",
     "output_type": "stream",
     "text": [
      "Epoch [2/150], Train Loss: 0.2652, Train Accuracy: 0.9165, Train Precision: 0.7522, Train Recall: 0.7375, Train F1: 0.7426\n",
      "Epoch [2/150], Validation Loss: 0.2070, Validation Accuracy: 0.9240, Validation Precision: 0.7915, Validation Recall: 0.7767, Validation F1: 0.7833\n"
     ]
    },
    {
     "name": "stderr",
     "output_type": "stream",
     "text": [
      "Training Epoch 3/150: 100%|██████████| 90/90 [00:18<00:00,  4.90it/s]\n"
     ]
    },
    {
     "name": "stdout",
     "output_type": "stream",
     "text": [
      "Epoch [3/150], Train Loss: 0.1923, Train Accuracy: 0.9300, Train Precision: 0.7890, Train Recall: 0.7796, Train F1: 0.7827\n",
      "Epoch [3/150], Validation Loss: 0.1815, Validation Accuracy: 0.9294, Validation Precision: 0.8092, Validation Recall: 0.7994, Validation F1: 0.7982\n"
     ]
    },
    {
     "name": "stderr",
     "output_type": "stream",
     "text": [
      "Training Epoch 4/150: 100%|██████████| 90/90 [00:21<00:00,  4.19it/s]\n"
     ]
    },
    {
     "name": "stdout",
     "output_type": "stream",
     "text": [
      "Epoch [4/150], Train Loss: 0.1803, Train Accuracy: 0.9322, Train Precision: 0.7973, Train Recall: 0.7863, Train F1: 0.7901\n",
      "Epoch [4/150], Validation Loss: 0.1760, Validation Accuracy: 0.9311, Validation Precision: 0.8269, Validation Recall: 0.7779, Validation F1: 0.7982\n"
     ]
    },
    {
     "name": "stderr",
     "output_type": "stream",
     "text": [
      "Training Epoch 5/150: 100%|██████████| 90/90 [00:41<00:00,  2.18it/s]\n"
     ]
    },
    {
     "name": "stdout",
     "output_type": "stream",
     "text": [
      "Epoch [5/150], Train Loss: 0.1725, Train Accuracy: 0.9341, Train Precision: 0.8069, Train Recall: 0.7949, Train F1: 0.7994\n",
      "Epoch [5/150], Validation Loss: 0.1682, Validation Accuracy: 0.9343, Validation Precision: 0.8095, Validation Recall: 0.8197, Validation F1: 0.8142\n"
     ]
    },
    {
     "name": "stderr",
     "output_type": "stream",
     "text": [
      "Training Epoch 6/150: 100%|██████████| 90/90 [00:31<00:00,  2.86it/s]\n"
     ]
    },
    {
     "name": "stdout",
     "output_type": "stream",
     "text": [
      "Epoch [6/150], Train Loss: 0.1625, Train Accuracy: 0.9373, Train Precision: 0.8139, Train Recall: 0.8022, Train F1: 0.8065\n",
      "Epoch [6/150], Validation Loss: 0.1629, Validation Accuracy: 0.9359, Validation Precision: 0.8150, Validation Recall: 0.8230, Validation F1: 0.8184\n"
     ]
    },
    {
     "name": "stderr",
     "output_type": "stream",
     "text": [
      "Training Epoch 7/150: 100%|██████████| 90/90 [00:20<00:00,  4.35it/s]\n"
     ]
    },
    {
     "name": "stdout",
     "output_type": "stream",
     "text": [
      "Epoch [7/150], Train Loss: 0.1633, Train Accuracy: 0.9380, Train Precision: 0.8151, Train Recall: 0.8009, Train F1: 0.8064\n",
      "Epoch [7/150], Validation Loss: 0.1623, Validation Accuracy: 0.9364, Validation Precision: 0.8197, Validation Recall: 0.8178, Validation F1: 0.8186\n"
     ]
    },
    {
     "name": "stderr",
     "output_type": "stream",
     "text": [
      "Training Epoch 8/150: 100%|██████████| 90/90 [00:38<00:00,  2.32it/s]\n"
     ]
    },
    {
     "name": "stdout",
     "output_type": "stream",
     "text": [
      "Epoch [8/150], Train Loss: 0.1559, Train Accuracy: 0.9404, Train Precision: 0.8194, Train Recall: 0.8072, Train F1: 0.8119\n",
      "Epoch [8/150], Validation Loss: 0.1591, Validation Accuracy: 0.9372, Validation Precision: 0.8346, Validation Recall: 0.8041, Validation F1: 0.8161\n"
     ]
    },
    {
     "name": "stderr",
     "output_type": "stream",
     "text": [
      "Training Epoch 9/150: 100%|██████████| 90/90 [00:18<00:00,  4.84it/s]\n"
     ]
    },
    {
     "name": "stdout",
     "output_type": "stream",
     "text": [
      "Epoch [9/150], Train Loss: 0.1542, Train Accuracy: 0.9408, Train Precision: 0.8212, Train Recall: 0.8080, Train F1: 0.8132\n",
      "Epoch [9/150], Validation Loss: 0.1649, Validation Accuracy: 0.9347, Validation Precision: 0.8464, Validation Recall: 0.7789, Validation F1: 0.8070\n"
     ]
    },
    {
     "name": "stderr",
     "output_type": "stream",
     "text": [
      "Training Epoch 10/150: 100%|██████████| 90/90 [00:20<00:00,  4.44it/s]\n"
     ]
    },
    {
     "name": "stdout",
     "output_type": "stream",
     "text": [
      "Epoch [10/150], Train Loss: 0.1513, Train Accuracy: 0.9417, Train Precision: 0.8243, Train Recall: 0.8101, Train F1: 0.8158\n",
      "Epoch [10/150], Validation Loss: 0.1564, Validation Accuracy: 0.9380, Validation Precision: 0.8372, Validation Recall: 0.8109, Validation F1: 0.8179\n"
     ]
    },
    {
     "name": "stderr",
     "output_type": "stream",
     "text": [
      "Training Epoch 11/150: 100%|██████████| 90/90 [00:18<00:00,  4.74it/s]\n"
     ]
    },
    {
     "name": "stdout",
     "output_type": "stream",
     "text": [
      "Epoch [11/150], Train Loss: 0.1499, Train Accuracy: 0.9421, Train Precision: 0.8262, Train Recall: 0.8121, Train F1: 0.8177\n",
      "Epoch [11/150], Validation Loss: 0.1542, Validation Accuracy: 0.9392, Validation Precision: 0.8402, Validation Recall: 0.8083, Validation F1: 0.8216\n"
     ]
    },
    {
     "name": "stderr",
     "output_type": "stream",
     "text": [
      "Training Epoch 12/150: 100%|██████████| 90/90 [00:21<00:00,  4.26it/s]\n"
     ]
    },
    {
     "name": "stdout",
     "output_type": "stream",
     "text": [
      "Epoch [12/150], Train Loss: 0.1486, Train Accuracy: 0.9432, Train Precision: 0.8274, Train Recall: 0.8134, Train F1: 0.8190\n",
      "Epoch [12/150], Validation Loss: 0.1536, Validation Accuracy: 0.9392, Validation Precision: 0.8418, Validation Recall: 0.8071, Validation F1: 0.8224\n"
     ]
    },
    {
     "name": "stderr",
     "output_type": "stream",
     "text": [
      "Training Epoch 13/150: 100%|██████████| 90/90 [00:19<00:00,  4.59it/s]\n"
     ]
    },
    {
     "name": "stdout",
     "output_type": "stream",
     "text": [
      "Epoch [13/150], Train Loss: 0.1488, Train Accuracy: 0.9426, Train Precision: 0.8267, Train Recall: 0.8136, Train F1: 0.8188\n",
      "Epoch [13/150], Validation Loss: 0.1512, Validation Accuracy: 0.9401, Validation Precision: 0.8283, Validation Recall: 0.8300, Validation F1: 0.8285\n"
     ]
    },
    {
     "name": "stderr",
     "output_type": "stream",
     "text": [
      "Training Epoch 14/150: 100%|██████████| 90/90 [01:08<00:00,  1.32it/s]\n"
     ]
    },
    {
     "name": "stdout",
     "output_type": "stream",
     "text": [
      "Epoch [14/150], Train Loss: 0.1455, Train Accuracy: 0.9439, Train Precision: 0.8299, Train Recall: 0.8162, Train F1: 0.8217\n",
      "Epoch [14/150], Validation Loss: 0.1907, Validation Accuracy: 0.9403, Validation Precision: 0.8308, Validation Recall: 0.8261, Validation F1: 0.8280\n"
     ]
    },
    {
     "name": "stderr",
     "output_type": "stream",
     "text": [
      "Training Epoch 15/150: 100%|██████████| 90/90 [00:21<00:00,  4.24it/s]\n"
     ]
    },
    {
     "name": "stdout",
     "output_type": "stream",
     "text": [
      "Epoch [15/150], Train Loss: 0.1465, Train Accuracy: 0.9436, Train Precision: 0.8291, Train Recall: 0.8149, Train F1: 0.8206\n",
      "Epoch [15/150], Validation Loss: 0.1557, Validation Accuracy: 0.9384, Validation Precision: 0.8162, Validation Recall: 0.8436, Validation F1: 0.8293\n"
     ]
    },
    {
     "name": "stderr",
     "output_type": "stream",
     "text": [
      "Training Epoch 16/150: 100%|██████████| 90/90 [00:28<00:00,  3.14it/s]\n"
     ]
    },
    {
     "name": "stdout",
     "output_type": "stream",
     "text": [
      "Epoch [16/150], Train Loss: 0.1451, Train Accuracy: 0.9438, Train Precision: 0.8318, Train Recall: 0.8187, Train F1: 0.8240\n",
      "Epoch [16/150], Validation Loss: 0.1511, Validation Accuracy: 0.9403, Validation Precision: 0.8256, Validation Recall: 0.8347, Validation F1: 0.8301\n"
     ]
    },
    {
     "name": "stderr",
     "output_type": "stream",
     "text": [
      "Training Epoch 17/150: 100%|██████████| 90/90 [00:55<00:00,  1.63it/s]\n"
     ]
    },
    {
     "name": "stdout",
     "output_type": "stream",
     "text": [
      "Epoch [17/150], Train Loss: 0.1414, Train Accuracy: 0.9449, Train Precision: 0.8315, Train Recall: 0.8177, Train F1: 0.8234\n",
      "Epoch [17/150], Validation Loss: 0.1490, Validation Accuracy: 0.9412, Validation Precision: 0.8351, Validation Recall: 0.8309, Validation F1: 0.8314\n"
     ]
    },
    {
     "name": "stderr",
     "output_type": "stream",
     "text": [
      "Training Epoch 18/150: 100%|██████████| 90/90 [00:27<00:00,  3.25it/s]\n"
     ]
    },
    {
     "name": "stdout",
     "output_type": "stream",
     "text": [
      "Epoch [18/150], Train Loss: 0.1435, Train Accuracy: 0.9444, Train Precision: 0.8328, Train Recall: 0.8204, Train F1: 0.8255\n",
      "Epoch [18/150], Validation Loss: 0.1525, Validation Accuracy: 0.9395, Validation Precision: 0.8532, Validation Recall: 0.7987, Validation F1: 0.8224\n"
     ]
    },
    {
     "name": "stderr",
     "output_type": "stream",
     "text": [
      "Training Epoch 19/150: 100%|██████████| 90/90 [00:35<00:00,  2.54it/s]\n"
     ]
    },
    {
     "name": "stdout",
     "output_type": "stream",
     "text": [
      "Epoch [19/150], Train Loss: 0.1411, Train Accuracy: 0.9454, Train Precision: 0.8349, Train Recall: 0.8211, Train F1: 0.8267\n",
      "Epoch [19/150], Validation Loss: 0.1656, Validation Accuracy: 0.9340, Validation Precision: 0.8556, Validation Recall: 0.7741, Validation F1: 0.8099\n"
     ]
    },
    {
     "name": "stderr",
     "output_type": "stream",
     "text": [
      "Training Epoch 20/150: 100%|██████████| 90/90 [00:28<00:00,  3.14it/s]\n"
     ]
    },
    {
     "name": "stdout",
     "output_type": "stream",
     "text": [
      "Epoch [20/150], Train Loss: 0.1410, Train Accuracy: 0.9455, Train Precision: 0.8359, Train Recall: 0.8215, Train F1: 0.8274\n",
      "Epoch [20/150], Validation Loss: 0.1481, Validation Accuracy: 0.9418, Validation Precision: 0.8474, Validation Recall: 0.8172, Validation F1: 0.8298\n"
     ]
    },
    {
     "name": "stderr",
     "output_type": "stream",
     "text": [
      "Training Epoch 21/150: 100%|██████████| 90/90 [00:26<00:00,  3.42it/s]\n"
     ]
    },
    {
     "name": "stdout",
     "output_type": "stream",
     "text": [
      "Epoch [21/150], Train Loss: 0.1423, Train Accuracy: 0.9452, Train Precision: 0.8335, Train Recall: 0.8212, Train F1: 0.8263\n",
      "Epoch [21/150], Validation Loss: 0.1467, Validation Accuracy: 0.9421, Validation Precision: 0.8439, Validation Recall: 0.8227, Validation F1: 0.8318\n"
     ]
    },
    {
     "name": "stderr",
     "output_type": "stream",
     "text": [
      "Training Epoch 22/150: 100%|██████████| 90/90 [00:23<00:00,  3.81it/s]\n"
     ]
    },
    {
     "name": "stdout",
     "output_type": "stream",
     "text": [
      "Epoch [22/150], Train Loss: 0.1383, Train Accuracy: 0.9464, Train Precision: 0.8363, Train Recall: 0.8229, Train F1: 0.8284\n",
      "Epoch [22/150], Validation Loss: 0.1519, Validation Accuracy: 0.9401, Validation Precision: 0.8537, Validation Recall: 0.8016, Validation F1: 0.8251\n"
     ]
    },
    {
     "name": "stderr",
     "output_type": "stream",
     "text": [
      "Training Epoch 23/150: 100%|██████████| 90/90 [00:26<00:00,  3.46it/s]\n"
     ]
    },
    {
     "name": "stdout",
     "output_type": "stream",
     "text": [
      "Epoch [23/150], Train Loss: 0.1394, Train Accuracy: 0.9465, Train Precision: 0.8366, Train Recall: 0.8231, Train F1: 0.8286\n",
      "Epoch [23/150], Validation Loss: 0.1471, Validation Accuracy: 0.9420, Validation Precision: 0.8338, Validation Recall: 0.8337, Validation F1: 0.8337\n"
     ]
    },
    {
     "name": "stderr",
     "output_type": "stream",
     "text": [
      "Training Epoch 24/150: 100%|██████████| 90/90 [00:25<00:00,  3.56it/s]\n"
     ]
    },
    {
     "name": "stdout",
     "output_type": "stream",
     "text": [
      "Epoch [24/150], Train Loss: 0.1404, Train Accuracy: 0.9461, Train Precision: 0.8378, Train Recall: 0.8250, Train F1: 0.8303\n",
      "Epoch [24/150], Validation Loss: 0.1458, Validation Accuracy: 0.9425, Validation Precision: 0.8529, Validation Recall: 0.8162, Validation F1: 0.8309\n"
     ]
    },
    {
     "name": "stderr",
     "output_type": "stream",
     "text": [
      "Training Epoch 25/150: 100%|██████████| 90/90 [00:26<00:00,  3.40it/s]\n"
     ]
    },
    {
     "name": "stdout",
     "output_type": "stream",
     "text": [
      "Epoch [25/150], Train Loss: 0.1404, Train Accuracy: 0.9459, Train Precision: 0.8379, Train Recall: 0.8255, Train F1: 0.8306\n",
      "Epoch [25/150], Validation Loss: 0.1478, Validation Accuracy: 0.9417, Validation Precision: 0.8512, Validation Recall: 0.8139, Validation F1: 0.8311\n"
     ]
    },
    {
     "name": "stderr",
     "output_type": "stream",
     "text": [
      "Training Epoch 26/150: 100%|██████████| 90/90 [00:26<00:00,  3.44it/s]\n"
     ]
    },
    {
     "name": "stdout",
     "output_type": "stream",
     "text": [
      "Epoch [26/150], Train Loss: 0.1365, Train Accuracy: 0.9470, Train Precision: 0.8381, Train Recall: 0.8252, Train F1: 0.8305\n",
      "Epoch [26/150], Validation Loss: 0.1489, Validation Accuracy: 0.9413, Validation Precision: 0.8298, Validation Recall: 0.8361, Validation F1: 0.8318\n"
     ]
    },
    {
     "name": "stderr",
     "output_type": "stream",
     "text": [
      "Training Epoch 27/150: 100%|██████████| 90/90 [00:27<00:00,  3.31it/s]\n"
     ]
    },
    {
     "name": "stdout",
     "output_type": "stream",
     "text": [
      "Epoch [27/150], Train Loss: 0.1401, Train Accuracy: 0.9462, Train Precision: 0.8381, Train Recall: 0.8268, Train F1: 0.8314\n",
      "Epoch [27/150], Validation Loss: 0.1480, Validation Accuracy: 0.9419, Validation Precision: 0.8541, Validation Recall: 0.8114, Validation F1: 0.8310\n"
     ]
    },
    {
     "name": "stderr",
     "output_type": "stream",
     "text": [
      "Training Epoch 28/150: 100%|██████████| 90/90 [00:25<00:00,  3.49it/s]\n"
     ]
    },
    {
     "name": "stdout",
     "output_type": "stream",
     "text": [
      "Epoch [28/150], Train Loss: 0.1372, Train Accuracy: 0.9470, Train Precision: 0.8406, Train Recall: 0.8281, Train F1: 0.8333\n",
      "Epoch [28/150], Validation Loss: 0.1480, Validation Accuracy: 0.9418, Validation Precision: 0.8569, Validation Recall: 0.8084, Validation F1: 0.8297\n"
     ]
    },
    {
     "name": "stderr",
     "output_type": "stream",
     "text": [
      "Training Epoch 29/150: 100%|██████████| 90/90 [00:26<00:00,  3.34it/s]\n"
     ]
    },
    {
     "name": "stdout",
     "output_type": "stream",
     "text": [
      "Epoch [29/150], Train Loss: 0.1357, Train Accuracy: 0.9476, Train Precision: 0.8409, Train Recall: 0.8289, Train F1: 0.8339\n",
      "Epoch [29/150], Validation Loss: 0.1437, Validation Accuracy: 0.9436, Validation Precision: 0.8455, Validation Recall: 0.8306, Validation F1: 0.8378\n"
     ]
    },
    {
     "name": "stderr",
     "output_type": "stream",
     "text": [
      "Training Epoch 30/150: 100%|██████████| 90/90 [00:26<00:00,  3.40it/s]\n"
     ]
    },
    {
     "name": "stdout",
     "output_type": "stream",
     "text": [
      "Epoch [30/150], Train Loss: 0.1356, Train Accuracy: 0.9479, Train Precision: 0.8417, Train Recall: 0.8294, Train F1: 0.8346\n",
      "Epoch [30/150], Validation Loss: 0.1427, Validation Accuracy: 0.9439, Validation Precision: 0.8489, Validation Recall: 0.8278, Validation F1: 0.8373\n"
     ]
    },
    {
     "name": "stderr",
     "output_type": "stream",
     "text": [
      "Training Epoch 31/150: 100%|██████████| 90/90 [00:29<00:00,  3.08it/s]\n"
     ]
    },
    {
     "name": "stdout",
     "output_type": "stream",
     "text": [
      "Epoch [31/150], Train Loss: 0.1368, Train Accuracy: 0.9475, Train Precision: 0.8418, Train Recall: 0.8288, Train F1: 0.8343\n",
      "Epoch [31/150], Validation Loss: 0.1423, Validation Accuracy: 0.9439, Validation Precision: 0.8515, Validation Recall: 0.8246, Validation F1: 0.8357\n"
     ]
    },
    {
     "name": "stderr",
     "output_type": "stream",
     "text": [
      "Training Epoch 32/150: 100%|██████████| 90/90 [00:25<00:00,  3.58it/s]\n"
     ]
    },
    {
     "name": "stdout",
     "output_type": "stream",
     "text": [
      "Epoch [32/150], Train Loss: 0.1355, Train Accuracy: 0.9477, Train Precision: 0.8426, Train Recall: 0.8292, Train F1: 0.8348\n",
      "Epoch [32/150], Validation Loss: 0.1456, Validation Accuracy: 0.9424, Validation Precision: 0.8479, Validation Recall: 0.8233, Validation F1: 0.8351\n"
     ]
    },
    {
     "name": "stderr",
     "output_type": "stream",
     "text": [
      "Training Epoch 33/150: 100%|██████████| 90/90 [00:24<00:00,  3.74it/s]\n"
     ]
    },
    {
     "name": "stdout",
     "output_type": "stream",
     "text": [
      "Epoch [33/150], Train Loss: 0.1359, Train Accuracy: 0.9481, Train Precision: 0.8426, Train Recall: 0.8314, Train F1: 0.8361\n",
      "Epoch [33/150], Validation Loss: 0.1431, Validation Accuracy: 0.9439, Validation Precision: 0.8523, Validation Recall: 0.8249, Validation F1: 0.8378\n"
     ]
    },
    {
     "name": "stderr",
     "output_type": "stream",
     "text": [
      "Training Epoch 34/150: 100%|██████████| 90/90 [00:25<00:00,  3.47it/s]\n"
     ]
    },
    {
     "name": "stdout",
     "output_type": "stream",
     "text": [
      "Epoch [34/150], Train Loss: 0.1331, Train Accuracy: 0.9488, Train Precision: 0.8429, Train Recall: 0.8304, Train F1: 0.8358\n",
      "Epoch [34/150], Validation Loss: 0.1418, Validation Accuracy: 0.9444, Validation Precision: 0.8543, Validation Recall: 0.8267, Validation F1: 0.8387\n"
     ]
    },
    {
     "name": "stderr",
     "output_type": "stream",
     "text": [
      "Training Epoch 35/150: 100%|██████████| 90/90 [00:24<00:00,  3.60it/s]\n"
     ]
    },
    {
     "name": "stdout",
     "output_type": "stream",
     "text": [
      "Epoch [35/150], Train Loss: 0.1340, Train Accuracy: 0.9484, Train Precision: 0.8444, Train Recall: 0.8321, Train F1: 0.8373\n",
      "Epoch [35/150], Validation Loss: 0.1427, Validation Accuracy: 0.9440, Validation Precision: 0.8369, Validation Recall: 0.8461, Validation F1: 0.8413\n"
     ]
    },
    {
     "name": "stderr",
     "output_type": "stream",
     "text": [
      "Training Epoch 36/150: 100%|██████████| 90/90 [00:28<00:00,  3.19it/s]\n"
     ]
    },
    {
     "name": "stdout",
     "output_type": "stream",
     "text": [
      "Epoch [36/150], Train Loss: 0.1329, Train Accuracy: 0.9488, Train Precision: 0.8448, Train Recall: 0.8320, Train F1: 0.8374\n",
      "Epoch [36/150], Validation Loss: 0.1439, Validation Accuracy: 0.9435, Validation Precision: 0.8433, Validation Recall: 0.8339, Validation F1: 0.8383\n"
     ]
    },
    {
     "name": "stderr",
     "output_type": "stream",
     "text": [
      "Training Epoch 37/150: 100%|██████████| 90/90 [00:30<00:00,  2.94it/s]\n"
     ]
    },
    {
     "name": "stdout",
     "output_type": "stream",
     "text": [
      "Epoch [37/150], Train Loss: 0.1315, Train Accuracy: 0.9488, Train Precision: 0.8445, Train Recall: 0.8323, Train F1: 0.8375\n",
      "Epoch [37/150], Validation Loss: 0.1422, Validation Accuracy: 0.9443, Validation Precision: 0.8554, Validation Recall: 0.8240, Validation F1: 0.8383\n"
     ]
    },
    {
     "name": "stderr",
     "output_type": "stream",
     "text": [
      "Training Epoch 38/150: 100%|██████████| 90/90 [00:26<00:00,  3.38it/s]\n"
     ]
    },
    {
     "name": "stdout",
     "output_type": "stream",
     "text": [
      "Epoch [38/150], Train Loss: 0.1356, Train Accuracy: 0.9482, Train Precision: 0.8457, Train Recall: 0.8333, Train F1: 0.8386\n",
      "Epoch [38/150], Validation Loss: 0.1412, Validation Accuracy: 0.9445, Validation Precision: 0.8571, Validation Recall: 0.8238, Validation F1: 0.8384\n"
     ]
    },
    {
     "name": "stderr",
     "output_type": "stream",
     "text": [
      "Training Epoch 39/150: 100%|██████████| 90/90 [00:27<00:00,  3.24it/s]\n"
     ]
    },
    {
     "name": "stdout",
     "output_type": "stream",
     "text": [
      "Epoch [39/150], Train Loss: 0.1380, Train Accuracy: 0.9467, Train Precision: 0.8443, Train Recall: 0.8317, Train F1: 0.8371\n",
      "Epoch [39/150], Validation Loss: 0.1453, Validation Accuracy: 0.9440, Validation Precision: 0.8447, Validation Recall: 0.8334, Validation F1: 0.8390\n"
     ]
    },
    {
     "name": "stderr",
     "output_type": "stream",
     "text": [
      "Training Epoch 40/150: 100%|██████████| 90/90 [00:28<00:00,  3.11it/s]\n"
     ]
    },
    {
     "name": "stdout",
     "output_type": "stream",
     "text": [
      "Epoch [40/150], Train Loss: 0.1314, Train Accuracy: 0.9492, Train Precision: 0.8467, Train Recall: 0.8342, Train F1: 0.8395\n",
      "Epoch [40/150], Validation Loss: 0.1404, Validation Accuracy: 0.9451, Validation Precision: 0.8511, Validation Recall: 0.8329, Validation F1: 0.8415\n"
     ]
    },
    {
     "name": "stderr",
     "output_type": "stream",
     "text": [
      "Training Epoch 41/150: 100%|██████████| 90/90 [00:27<00:00,  3.25it/s]\n"
     ]
    },
    {
     "name": "stdout",
     "output_type": "stream",
     "text": [
      "Epoch [41/150], Train Loss: 0.1302, Train Accuracy: 0.9493, Train Precision: 0.8458, Train Recall: 0.8350, Train F1: 0.8396\n",
      "Epoch [41/150], Validation Loss: 0.1484, Validation Accuracy: 0.9423, Validation Precision: 0.8552, Validation Recall: 0.8174, Validation F1: 0.8353\n"
     ]
    },
    {
     "name": "stderr",
     "output_type": "stream",
     "text": [
      "Training Epoch 42/150: 100%|██████████| 90/90 [00:26<00:00,  3.44it/s]\n"
     ]
    },
    {
     "name": "stdout",
     "output_type": "stream",
     "text": [
      "Epoch [42/150], Train Loss: 0.1304, Train Accuracy: 0.9502, Train Precision: 0.8477, Train Recall: 0.8349, Train F1: 0.8405\n",
      "Epoch [42/150], Validation Loss: 0.1406, Validation Accuracy: 0.9447, Validation Precision: 0.8589, Validation Recall: 0.8232, Validation F1: 0.8384\n"
     ]
    },
    {
     "name": "stderr",
     "output_type": "stream",
     "text": [
      "Training Epoch 43/150: 100%|██████████| 90/90 [00:29<00:00,  3.08it/s]\n"
     ]
    },
    {
     "name": "stdout",
     "output_type": "stream",
     "text": [
      "Epoch [43/150], Train Loss: 0.1347, Train Accuracy: 0.9484, Train Precision: 0.8457, Train Recall: 0.8337, Train F1: 0.8388\n",
      "Epoch [43/150], Validation Loss: 0.1426, Validation Accuracy: 0.9443, Validation Precision: 0.8594, Validation Recall: 0.8205, Validation F1: 0.8380\n"
     ]
    },
    {
     "name": "stderr",
     "output_type": "stream",
     "text": [
      "Training Epoch 44/150: 100%|██████████| 90/90 [00:25<00:00,  3.49it/s]\n"
     ]
    },
    {
     "name": "stdout",
     "output_type": "stream",
     "text": [
      "Epoch [44/150], Train Loss: 0.1295, Train Accuracy: 0.9499, Train Precision: 0.8480, Train Recall: 0.8356, Train F1: 0.8409\n",
      "Epoch [44/150], Validation Loss: 0.1403, Validation Accuracy: 0.9451, Validation Precision: 0.8582, Validation Recall: 0.8252, Validation F1: 0.8399\n"
     ]
    },
    {
     "name": "stderr",
     "output_type": "stream",
     "text": [
      "Training Epoch 45/150: 100%|██████████| 90/90 [00:27<00:00,  3.29it/s]\n"
     ]
    },
    {
     "name": "stdout",
     "output_type": "stream",
     "text": [
      "Epoch [45/150], Train Loss: 0.1293, Train Accuracy: 0.9500, Train Precision: 0.8478, Train Recall: 0.8357, Train F1: 0.8409\n",
      "Epoch [45/150], Validation Loss: 0.1398, Validation Accuracy: 0.9453, Validation Precision: 0.8559, Validation Recall: 0.8294, Validation F1: 0.8414\n"
     ]
    },
    {
     "name": "stderr",
     "output_type": "stream",
     "text": [
      "Training Epoch 46/150: 100%|██████████| 90/90 [00:26<00:00,  3.35it/s]\n"
     ]
    },
    {
     "name": "stdout",
     "output_type": "stream",
     "text": [
      "Epoch [46/150], Train Loss: 0.1317, Train Accuracy: 0.9498, Train Precision: 0.8470, Train Recall: 0.8363, Train F1: 0.8408\n",
      "Epoch [46/150], Validation Loss: 0.1407, Validation Accuracy: 0.9448, Validation Precision: 0.8597, Validation Recall: 0.8225, Validation F1: 0.8392\n"
     ]
    },
    {
     "name": "stderr",
     "output_type": "stream",
     "text": [
      "Training Epoch 47/150: 100%|██████████| 90/90 [00:26<00:00,  3.38it/s]\n"
     ]
    },
    {
     "name": "stdout",
     "output_type": "stream",
     "text": [
      "Epoch [47/150], Train Loss: 0.1285, Train Accuracy: 0.9506, Train Precision: 0.8489, Train Recall: 0.8374, Train F1: 0.8423\n",
      "Epoch [47/150], Validation Loss: 0.1418, Validation Accuracy: 0.9447, Validation Precision: 0.8615, Validation Recall: 0.8217, Validation F1: 0.8398\n"
     ]
    },
    {
     "name": "stderr",
     "output_type": "stream",
     "text": [
      "Training Epoch 48/150: 100%|██████████| 90/90 [00:27<00:00,  3.30it/s]\n"
     ]
    },
    {
     "name": "stdout",
     "output_type": "stream",
     "text": [
      "Epoch [48/150], Train Loss: 0.1274, Train Accuracy: 0.9507, Train Precision: 0.8500, Train Recall: 0.8368, Train F1: 0.8425\n",
      "Epoch [48/150], Validation Loss: 0.1389, Validation Accuracy: 0.9458, Validation Precision: 0.8577, Validation Recall: 0.8316, Validation F1: 0.8432\n"
     ]
    },
    {
     "name": "stderr",
     "output_type": "stream",
     "text": [
      "Training Epoch 49/150: 100%|██████████| 90/90 [00:20<00:00,  4.34it/s]\n"
     ]
    },
    {
     "name": "stdout",
     "output_type": "stream",
     "text": [
      "Epoch [49/150], Train Loss: 0.1286, Train Accuracy: 0.9504, Train Precision: 0.8496, Train Recall: 0.8376, Train F1: 0.8428\n",
      "Epoch [49/150], Validation Loss: 0.1402, Validation Accuracy: 0.9451, Validation Precision: 0.8402, Validation Recall: 0.8504, Validation F1: 0.8450\n"
     ]
    },
    {
     "name": "stderr",
     "output_type": "stream",
     "text": [
      "Training Epoch 50/150: 100%|██████████| 90/90 [00:20<00:00,  4.31it/s]\n"
     ]
    },
    {
     "name": "stdout",
     "output_type": "stream",
     "text": [
      "Epoch [50/150], Train Loss: 0.1272, Train Accuracy: 0.9508, Train Precision: 0.8501, Train Recall: 0.8389, Train F1: 0.8437\n",
      "Epoch [50/150], Validation Loss: 0.1386, Validation Accuracy: 0.9458, Validation Precision: 0.8491, Validation Recall: 0.8397, Validation F1: 0.8443\n"
     ]
    },
    {
     "name": "stderr",
     "output_type": "stream",
     "text": [
      "Training Epoch 51/150: 100%|██████████| 90/90 [00:20<00:00,  4.32it/s]\n"
     ]
    },
    {
     "name": "stdout",
     "output_type": "stream",
     "text": [
      "Epoch [51/150], Train Loss: 0.1261, Train Accuracy: 0.9511, Train Precision: 0.8517, Train Recall: 0.8397, Train F1: 0.8449\n",
      "Epoch [51/150], Validation Loss: 0.1387, Validation Accuracy: 0.9460, Validation Precision: 0.8510, Validation Recall: 0.8403, Validation F1: 0.8455\n"
     ]
    },
    {
     "name": "stderr",
     "output_type": "stream",
     "text": [
      "Training Epoch 52/150: 100%|██████████| 90/90 [00:18<00:00,  4.92it/s]\n"
     ]
    },
    {
     "name": "stdout",
     "output_type": "stream",
     "text": [
      "Epoch [52/150], Train Loss: 0.1265, Train Accuracy: 0.9509, Train Precision: 0.8510, Train Recall: 0.8393, Train F1: 0.8443\n",
      "Epoch [52/150], Validation Loss: 0.1385, Validation Accuracy: 0.9459, Validation Precision: 0.8552, Validation Recall: 0.8338, Validation F1: 0.8437\n"
     ]
    },
    {
     "name": "stderr",
     "output_type": "stream",
     "text": [
      "Training Epoch 53/150: 100%|██████████| 90/90 [00:32<00:00,  2.75it/s]\n"
     ]
    },
    {
     "name": "stdout",
     "output_type": "stream",
     "text": [
      "Epoch [53/150], Train Loss: 0.1237, Train Accuracy: 0.9519, Train Precision: 0.8521, Train Recall: 0.8395, Train F1: 0.8449\n",
      "Epoch [53/150], Validation Loss: 0.1378, Validation Accuracy: 0.9460, Validation Precision: 0.8502, Validation Recall: 0.8413, Validation F1: 0.8456\n"
     ]
    },
    {
     "name": "stderr",
     "output_type": "stream",
     "text": [
      "Training Epoch 54/150: 100%|██████████| 90/90 [00:19<00:00,  4.57it/s]\n"
     ]
    },
    {
     "name": "stdout",
     "output_type": "stream",
     "text": [
      "Epoch [54/150], Train Loss: 0.1262, Train Accuracy: 0.9513, Train Precision: 0.8517, Train Recall: 0.8402, Train F1: 0.8452\n",
      "Epoch [54/150], Validation Loss: 0.1372, Validation Accuracy: 0.9462, Validation Precision: 0.8504, Validation Recall: 0.8419, Validation F1: 0.8458\n"
     ]
    },
    {
     "name": "stderr",
     "output_type": "stream",
     "text": [
      "Training Epoch 55/150: 100%|██████████| 90/90 [00:21<00:00,  4.19it/s]\n"
     ]
    },
    {
     "name": "stdout",
     "output_type": "stream",
     "text": [
      "Epoch [55/150], Train Loss: 0.1287, Train Accuracy: 0.9507, Train Precision: 0.8522, Train Recall: 0.8406, Train F1: 0.8456\n",
      "Epoch [55/150], Validation Loss: 0.1389, Validation Accuracy: 0.9457, Validation Precision: 0.8622, Validation Recall: 0.8254, Validation F1: 0.8416\n"
     ]
    },
    {
     "name": "stderr",
     "output_type": "stream",
     "text": [
      "Training Epoch 56/150: 100%|██████████| 90/90 [00:18<00:00,  4.81it/s]\n"
     ]
    },
    {
     "name": "stdout",
     "output_type": "stream",
     "text": [
      "Epoch [56/150], Train Loss: 0.1284, Train Accuracy: 0.9506, Train Precision: 0.8519, Train Recall: 0.8411, Train F1: 0.8457\n",
      "Epoch [56/150], Validation Loss: 0.1400, Validation Accuracy: 0.9451, Validation Precision: 0.8589, Validation Recall: 0.8269, Validation F1: 0.8420\n"
     ]
    },
    {
     "name": "stderr",
     "output_type": "stream",
     "text": [
      "Training Epoch 57/150: 100%|██████████| 90/90 [00:20<00:00,  4.45it/s]\n"
     ]
    },
    {
     "name": "stdout",
     "output_type": "stream",
     "text": [
      "Epoch [57/150], Train Loss: 0.1252, Train Accuracy: 0.9517, Train Precision: 0.8529, Train Recall: 0.8402, Train F1: 0.8457\n",
      "Epoch [57/150], Validation Loss: 0.1380, Validation Accuracy: 0.9461, Validation Precision: 0.8514, Validation Recall: 0.8396, Validation F1: 0.8454\n"
     ]
    },
    {
     "name": "stderr",
     "output_type": "stream",
     "text": [
      "Training Epoch 58/150: 100%|██████████| 90/90 [00:19<00:00,  4.55it/s]\n"
     ]
    },
    {
     "name": "stdout",
     "output_type": "stream",
     "text": [
      "Epoch [58/150], Train Loss: 0.1284, Train Accuracy: 0.9502, Train Precision: 0.8521, Train Recall: 0.8406, Train F1: 0.8456\n",
      "Epoch [58/150], Validation Loss: 0.1380, Validation Accuracy: 0.9462, Validation Precision: 0.8517, Validation Recall: 0.8401, Validation F1: 0.8458\n"
     ]
    },
    {
     "name": "stderr",
     "output_type": "stream",
     "text": [
      "Training Epoch 59/150: 100%|██████████| 90/90 [00:20<00:00,  4.33it/s]\n"
     ]
    },
    {
     "name": "stdout",
     "output_type": "stream",
     "text": [
      "Epoch [59/150], Train Loss: 0.1271, Train Accuracy: 0.9510, Train Precision: 0.8524, Train Recall: 0.8405, Train F1: 0.8457\n",
      "Epoch [59/150], Validation Loss: 0.1385, Validation Accuracy: 0.9457, Validation Precision: 0.8580, Validation Recall: 0.8315, Validation F1: 0.8441\n"
     ]
    },
    {
     "name": "stderr",
     "output_type": "stream",
     "text": [
      "Training Epoch 60/150: 100%|██████████| 90/90 [00:18<00:00,  4.90it/s]\n"
     ]
    },
    {
     "name": "stdout",
     "output_type": "stream",
     "text": [
      "Epoch [60/150], Train Loss: 0.1246, Train Accuracy: 0.9518, Train Precision: 0.8536, Train Recall: 0.8423, Train F1: 0.8472\n",
      "Epoch [60/150], Validation Loss: 0.1382, Validation Accuracy: 0.9462, Validation Precision: 0.8615, Validation Recall: 0.8297, Validation F1: 0.8433\n"
     ]
    },
    {
     "name": "stderr",
     "output_type": "stream",
     "text": [
      "Training Epoch 61/150: 100%|██████████| 90/90 [00:26<00:00,  3.40it/s]\n"
     ]
    },
    {
     "name": "stdout",
     "output_type": "stream",
     "text": [
      "Epoch [61/150], Train Loss: 0.1213, Train Accuracy: 0.9531, Train Precision: 0.8555, Train Recall: 0.8437, Train F1: 0.8488\n",
      "Epoch [61/150], Validation Loss: 0.1391, Validation Accuracy: 0.9456, Validation Precision: 0.8632, Validation Recall: 0.8255, Validation F1: 0.8424\n"
     ]
    },
    {
     "name": "stderr",
     "output_type": "stream",
     "text": [
      "Training Epoch 62/150: 100%|██████████| 90/90 [00:25<00:00,  3.59it/s]\n"
     ]
    },
    {
     "name": "stdout",
     "output_type": "stream",
     "text": [
      "Epoch [62/150], Train Loss: 0.1230, Train Accuracy: 0.9523, Train Precision: 0.8548, Train Recall: 0.8433, Train F1: 0.8483\n",
      "Epoch [62/150], Validation Loss: 0.1373, Validation Accuracy: 0.9461, Validation Precision: 0.8555, Validation Recall: 0.8364, Validation F1: 0.8457\n"
     ]
    },
    {
     "name": "stderr",
     "output_type": "stream",
     "text": [
      "Training Epoch 63/150: 100%|██████████| 90/90 [00:24<00:00,  3.68it/s]\n"
     ]
    },
    {
     "name": "stdout",
     "output_type": "stream",
     "text": [
      "Epoch [63/150], Train Loss: 0.1217, Train Accuracy: 0.9527, Train Precision: 0.8544, Train Recall: 0.8434, Train F1: 0.8482\n",
      "Epoch [63/150], Validation Loss: 0.1371, Validation Accuracy: 0.9464, Validation Precision: 0.8604, Validation Recall: 0.8324, Validation F1: 0.8445\n"
     ]
    },
    {
     "name": "stderr",
     "output_type": "stream",
     "text": [
      "Training Epoch 64/150: 100%|██████████| 90/90 [00:25<00:00,  3.53it/s]\n"
     ]
    },
    {
     "name": "stdout",
     "output_type": "stream",
     "text": [
      "Epoch [64/150], Train Loss: 0.1273, Train Accuracy: 0.9511, Train Precision: 0.8549, Train Recall: 0.8433, Train F1: 0.8483\n",
      "Epoch [64/150], Validation Loss: 0.1374, Validation Accuracy: 0.9464, Validation Precision: 0.8526, Validation Recall: 0.8417, Validation F1: 0.8471\n"
     ]
    },
    {
     "name": "stderr",
     "output_type": "stream",
     "text": [
      "Training Epoch 65/150: 100%|██████████| 90/90 [00:22<00:00,  3.92it/s]\n"
     ]
    },
    {
     "name": "stdout",
     "output_type": "stream",
     "text": [
      "Epoch [65/150], Train Loss: 0.1232, Train Accuracy: 0.9524, Train Precision: 0.8556, Train Recall: 0.8440, Train F1: 0.8491\n",
      "Epoch [65/150], Validation Loss: 0.1365, Validation Accuracy: 0.9466, Validation Precision: 0.8565, Validation Recall: 0.8386, Validation F1: 0.8471\n"
     ]
    },
    {
     "name": "stderr",
     "output_type": "stream",
     "text": [
      "Training Epoch 66/150: 100%|██████████| 90/90 [00:27<00:00,  3.31it/s]\n"
     ]
    },
    {
     "name": "stdout",
     "output_type": "stream",
     "text": [
      "Epoch [66/150], Train Loss: 0.1239, Train Accuracy: 0.9521, Train Precision: 0.8545, Train Recall: 0.8436, Train F1: 0.8484\n",
      "Epoch [66/150], Validation Loss: 0.1385, Validation Accuracy: 0.9456, Validation Precision: 0.8659, Validation Recall: 0.8208, Validation F1: 0.8401\n"
     ]
    },
    {
     "name": "stderr",
     "output_type": "stream",
     "text": [
      "Training Epoch 67/150: 100%|██████████| 90/90 [00:27<00:00,  3.25it/s]\n"
     ]
    },
    {
     "name": "stdout",
     "output_type": "stream",
     "text": [
      "Epoch [67/150], Train Loss: 0.1239, Train Accuracy: 0.9523, Train Precision: 0.8557, Train Recall: 0.8445, Train F1: 0.8494\n",
      "Epoch [67/150], Validation Loss: 0.1384, Validation Accuracy: 0.9463, Validation Precision: 0.8637, Validation Recall: 0.8277, Validation F1: 0.8431\n"
     ]
    },
    {
     "name": "stderr",
     "output_type": "stream",
     "text": [
      "Training Epoch 68/150: 100%|██████████| 90/90 [00:27<00:00,  3.28it/s]\n"
     ]
    },
    {
     "name": "stdout",
     "output_type": "stream",
     "text": [
      "Epoch [68/150], Train Loss: 0.1262, Train Accuracy: 0.9516, Train Precision: 0.8557, Train Recall: 0.8445, Train F1: 0.8494\n",
      "Epoch [68/150], Validation Loss: 0.1367, Validation Accuracy: 0.9467, Validation Precision: 0.8611, Validation Recall: 0.8331, Validation F1: 0.8458\n"
     ]
    },
    {
     "name": "stderr",
     "output_type": "stream",
     "text": [
      "Training Epoch 69/150: 100%|██████████| 90/90 [00:20<00:00,  4.43it/s]\n"
     ]
    },
    {
     "name": "stdout",
     "output_type": "stream",
     "text": [
      "Epoch [69/150], Train Loss: 0.1269, Train Accuracy: 0.9516, Train Precision: 0.8560, Train Recall: 0.8448, Train F1: 0.8497\n",
      "Epoch [69/150], Validation Loss: 0.1367, Validation Accuracy: 0.9466, Validation Precision: 0.8609, Validation Recall: 0.8335, Validation F1: 0.8462\n"
     ]
    },
    {
     "name": "stderr",
     "output_type": "stream",
     "text": [
      "Training Epoch 70/150: 100%|██████████| 90/90 [00:18<00:00,  4.97it/s]\n"
     ]
    },
    {
     "name": "stdout",
     "output_type": "stream",
     "text": [
      "Epoch [70/150], Train Loss: 0.1229, Train Accuracy: 0.9525, Train Precision: 0.8556, Train Recall: 0.8449, Train F1: 0.8495\n",
      "Epoch [70/150], Validation Loss: 0.1405, Validation Accuracy: 0.9448, Validation Precision: 0.8603, Validation Recall: 0.8258, Validation F1: 0.8422\n"
     ]
    },
    {
     "name": "stderr",
     "output_type": "stream",
     "text": [
      "Training Epoch 71/150: 100%|██████████| 90/90 [00:20<00:00,  4.40it/s]\n"
     ]
    },
    {
     "name": "stdout",
     "output_type": "stream",
     "text": [
      "Epoch [71/150], Train Loss: 0.1231, Train Accuracy: 0.9529, Train Precision: 0.8570, Train Recall: 0.8451, Train F1: 0.8503\n",
      "Epoch [71/150], Validation Loss: 0.1388, Validation Accuracy: 0.9457, Validation Precision: 0.8481, Validation Recall: 0.8435, Validation F1: 0.8453\n"
     ]
    },
    {
     "name": "stderr",
     "output_type": "stream",
     "text": [
      "Training Epoch 72/150: 100%|██████████| 90/90 [00:17<00:00,  5.05it/s]\n"
     ]
    },
    {
     "name": "stdout",
     "output_type": "stream",
     "text": [
      "Epoch [72/150], Train Loss: 0.1204, Train Accuracy: 0.9536, Train Precision: 0.8562, Train Recall: 0.8462, Train F1: 0.8506\n",
      "Epoch [72/150], Validation Loss: 0.1398, Validation Accuracy: 0.9457, Validation Precision: 0.8659, Validation Recall: 0.8239, Validation F1: 0.8427\n"
     ]
    },
    {
     "name": "stderr",
     "output_type": "stream",
     "text": [
      "Training Epoch 73/150: 100%|██████████| 90/90 [00:19<00:00,  4.61it/s]\n"
     ]
    },
    {
     "name": "stdout",
     "output_type": "stream",
     "text": [
      "Epoch [73/150], Train Loss: 0.1228, Train Accuracy: 0.9534, Train Precision: 0.8566, Train Recall: 0.8450, Train F1: 0.8501\n",
      "Epoch [73/150], Validation Loss: 0.1407, Validation Accuracy: 0.9454, Validation Precision: 0.8667, Validation Recall: 0.8230, Validation F1: 0.8402\n"
     ]
    },
    {
     "name": "stderr",
     "output_type": "stream",
     "text": [
      "Training Epoch 74/150: 100%|██████████| 90/90 [00:18<00:00,  4.97it/s]\n"
     ]
    },
    {
     "name": "stdout",
     "output_type": "stream",
     "text": [
      "Epoch [74/150], Train Loss: 0.1266, Train Accuracy: 0.9513, Train Precision: 0.8549, Train Recall: 0.8436, Train F1: 0.8485\n",
      "Epoch [74/150], Validation Loss: 0.1377, Validation Accuracy: 0.9465, Validation Precision: 0.8559, Validation Recall: 0.8384, Validation F1: 0.8469\n"
     ]
    },
    {
     "name": "stderr",
     "output_type": "stream",
     "text": [
      "Training Epoch 75/150: 100%|██████████| 90/90 [00:18<00:00,  4.86it/s]\n"
     ]
    },
    {
     "name": "stdout",
     "output_type": "stream",
     "text": [
      "Epoch [75/150], Train Loss: 0.1211, Train Accuracy: 0.9532, Train Precision: 0.8569, Train Recall: 0.8459, Train F1: 0.8508\n",
      "Epoch [75/150], Validation Loss: 0.1376, Validation Accuracy: 0.9469, Validation Precision: 0.8560, Validation Recall: 0.8404, Validation F1: 0.8480\n"
     ]
    },
    {
     "name": "stderr",
     "output_type": "stream",
     "text": [
      "Training Epoch 76/150: 100%|██████████| 90/90 [00:19<00:00,  4.55it/s]\n"
     ]
    },
    {
     "name": "stdout",
     "output_type": "stream",
     "text": [
      "Epoch [76/150], Train Loss: 0.1238, Train Accuracy: 0.9524, Train Precision: 0.8578, Train Recall: 0.8468, Train F1: 0.8516\n",
      "Epoch [76/150], Validation Loss: 0.1349, Validation Accuracy: 0.9473, Validation Precision: 0.8556, Validation Recall: 0.8435, Validation F1: 0.8493\n"
     ]
    },
    {
     "name": "stderr",
     "output_type": "stream",
     "text": [
      "Training Epoch 77/150: 100%|██████████| 90/90 [00:17<00:00,  5.00it/s]\n"
     ]
    },
    {
     "name": "stdout",
     "output_type": "stream",
     "text": [
      "Epoch [77/150], Train Loss: 0.1220, Train Accuracy: 0.9531, Train Precision: 0.8582, Train Recall: 0.8468, Train F1: 0.8518\n",
      "Epoch [77/150], Validation Loss: 0.1360, Validation Accuracy: 0.9473, Validation Precision: 0.8591, Validation Recall: 0.8396, Validation F1: 0.8488\n"
     ]
    },
    {
     "name": "stderr",
     "output_type": "stream",
     "text": [
      "Training Epoch 78/150: 100%|██████████| 90/90 [00:22<00:00,  4.07it/s]\n"
     ]
    },
    {
     "name": "stdout",
     "output_type": "stream",
     "text": [
      "Epoch [78/150], Train Loss: 0.1217, Train Accuracy: 0.9530, Train Precision: 0.8584, Train Recall: 0.8481, Train F1: 0.8527\n",
      "Epoch [78/150], Validation Loss: 0.1364, Validation Accuracy: 0.9468, Validation Precision: 0.8629, Validation Recall: 0.8322, Validation F1: 0.8458\n"
     ]
    },
    {
     "name": "stderr",
     "output_type": "stream",
     "text": [
      "Training Epoch 79/150: 100%|██████████| 90/90 [00:17<00:00,  5.09it/s]\n"
     ]
    },
    {
     "name": "stdout",
     "output_type": "stream",
     "text": [
      "Epoch [79/150], Train Loss: 0.1214, Train Accuracy: 0.9532, Train Precision: 0.8590, Train Recall: 0.8470, Train F1: 0.8523\n",
      "Epoch [79/150], Validation Loss: 0.1361, Validation Accuracy: 0.9473, Validation Precision: 0.8585, Validation Recall: 0.8403, Validation F1: 0.8490\n"
     ]
    },
    {
     "name": "stderr",
     "output_type": "stream",
     "text": [
      "Training Epoch 80/150: 100%|██████████| 90/90 [00:20<00:00,  4.33it/s]\n"
     ]
    },
    {
     "name": "stdout",
     "output_type": "stream",
     "text": [
      "Epoch [80/150], Train Loss: 0.1197, Train Accuracy: 0.9539, Train Precision: 0.8588, Train Recall: 0.8476, Train F1: 0.8525\n",
      "Epoch [80/150], Validation Loss: 0.1395, Validation Accuracy: 0.9461, Validation Precision: 0.8654, Validation Recall: 0.8262, Validation F1: 0.8438\n"
     ]
    },
    {
     "name": "stderr",
     "output_type": "stream",
     "text": [
      "Training Epoch 81/150: 100%|██████████| 90/90 [00:19<00:00,  4.56it/s]\n"
     ]
    },
    {
     "name": "stdout",
     "output_type": "stream",
     "text": [
      "Epoch [81/150], Train Loss: 0.1203, Train Accuracy: 0.9534, Train Precision: 0.8583, Train Recall: 0.8471, Train F1: 0.8520\n",
      "Epoch [81/150], Validation Loss: 0.1358, Validation Accuracy: 0.9469, Validation Precision: 0.8513, Validation Recall: 0.8464, Validation F1: 0.8488\n"
     ]
    },
    {
     "name": "stderr",
     "output_type": "stream",
     "text": [
      "Training Epoch 82/150: 100%|██████████| 90/90 [00:17<00:00,  5.02it/s]\n"
     ]
    },
    {
     "name": "stdout",
     "output_type": "stream",
     "text": [
      "Epoch [82/150], Train Loss: 0.1255, Train Accuracy: 0.9520, Train Precision: 0.8581, Train Recall: 0.8478, Train F1: 0.8523\n",
      "Epoch [82/150], Validation Loss: 0.1351, Validation Accuracy: 0.9470, Validation Precision: 0.8567, Validation Recall: 0.8413, Validation F1: 0.8487\n"
     ]
    },
    {
     "name": "stderr",
     "output_type": "stream",
     "text": [
      "Training Epoch 83/150: 100%|██████████| 90/90 [00:19<00:00,  4.63it/s]\n"
     ]
    },
    {
     "name": "stdout",
     "output_type": "stream",
     "text": [
      "Epoch [83/150], Train Loss: 0.1221, Train Accuracy: 0.9530, Train Precision: 0.8593, Train Recall: 0.8483, Train F1: 0.8531\n",
      "Epoch [83/150], Validation Loss: 0.1370, Validation Accuracy: 0.9468, Validation Precision: 0.8574, Validation Recall: 0.8392, Validation F1: 0.8481\n"
     ]
    },
    {
     "name": "stderr",
     "output_type": "stream",
     "text": [
      "Training Epoch 84/150: 100%|██████████| 90/90 [00:18<00:00,  4.98it/s]\n"
     ]
    },
    {
     "name": "stdout",
     "output_type": "stream",
     "text": [
      "Epoch [84/150], Train Loss: 0.1205, Train Accuracy: 0.9539, Train Precision: 0.8599, Train Recall: 0.8495, Train F1: 0.8541\n",
      "Epoch [84/150], Validation Loss: 0.1342, Validation Accuracy: 0.9476, Validation Precision: 0.8556, Validation Recall: 0.8454, Validation F1: 0.8501\n"
     ]
    },
    {
     "name": "stderr",
     "output_type": "stream",
     "text": [
      "Training Epoch 85/150: 100%|██████████| 90/90 [00:21<00:00,  4.27it/s]\n"
     ]
    },
    {
     "name": "stdout",
     "output_type": "stream",
     "text": [
      "Epoch [85/150], Train Loss: 0.1193, Train Accuracy: 0.9543, Train Precision: 0.8602, Train Recall: 0.8491, Train F1: 0.8540\n",
      "Epoch [85/150], Validation Loss: 0.1358, Validation Accuracy: 0.9471, Validation Precision: 0.8590, Validation Recall: 0.8386, Validation F1: 0.8483\n"
     ]
    },
    {
     "name": "stderr",
     "output_type": "stream",
     "text": [
      "Training Epoch 86/150: 100%|██████████| 90/90 [00:18<00:00,  4.81it/s]\n"
     ]
    },
    {
     "name": "stdout",
     "output_type": "stream",
     "text": [
      "Epoch [86/150], Train Loss: 0.1184, Train Accuracy: 0.9542, Train Precision: 0.8608, Train Recall: 0.8500, Train F1: 0.8548\n",
      "Epoch [86/150], Validation Loss: 0.1376, Validation Accuracy: 0.9462, Validation Precision: 0.8655, Validation Recall: 0.8266, Validation F1: 0.8443\n"
     ]
    },
    {
     "name": "stderr",
     "output_type": "stream",
     "text": [
      "Training Epoch 87/150: 100%|██████████| 90/90 [00:20<00:00,  4.50it/s]\n"
     ]
    },
    {
     "name": "stdout",
     "output_type": "stream",
     "text": [
      "Epoch [87/150], Train Loss: 0.1178, Train Accuracy: 0.9544, Train Precision: 0.8607, Train Recall: 0.8496, Train F1: 0.8545\n",
      "Epoch [87/150], Validation Loss: 0.1354, Validation Accuracy: 0.9473, Validation Precision: 0.8592, Validation Recall: 0.8405, Validation F1: 0.8495\n"
     ]
    },
    {
     "name": "stderr",
     "output_type": "stream",
     "text": [
      "Training Epoch 88/150: 100%|██████████| 90/90 [00:20<00:00,  4.47it/s]\n"
     ]
    },
    {
     "name": "stdout",
     "output_type": "stream",
     "text": [
      "Epoch [88/150], Train Loss: 0.1186, Train Accuracy: 0.9540, Train Precision: 0.8614, Train Recall: 0.8494, Train F1: 0.8547\n",
      "Epoch [88/150], Validation Loss: 0.1363, Validation Accuracy: 0.9470, Validation Precision: 0.8536, Validation Recall: 0.8446, Validation F1: 0.8490\n"
     ]
    },
    {
     "name": "stderr",
     "output_type": "stream",
     "text": [
      "Training Epoch 89/150: 100%|██████████| 90/90 [00:19<00:00,  4.53it/s]\n"
     ]
    },
    {
     "name": "stdout",
     "output_type": "stream",
     "text": [
      "Epoch [89/150], Train Loss: 0.1202, Train Accuracy: 0.9536, Train Precision: 0.8609, Train Recall: 0.8497, Train F1: 0.8547\n",
      "Epoch [89/150], Validation Loss: 0.1358, Validation Accuracy: 0.9473, Validation Precision: 0.8620, Validation Recall: 0.8377, Validation F1: 0.8491\n"
     ]
    },
    {
     "name": "stderr",
     "output_type": "stream",
     "text": [
      "Training Epoch 90/150: 100%|██████████| 90/90 [00:18<00:00,  4.83it/s]\n"
     ]
    },
    {
     "name": "stdout",
     "output_type": "stream",
     "text": [
      "Epoch [90/150], Train Loss: 0.1190, Train Accuracy: 0.9541, Train Precision: 0.8612, Train Recall: 0.8504, Train F1: 0.8552\n",
      "Epoch [90/150], Validation Loss: 0.1366, Validation Accuracy: 0.9472, Validation Precision: 0.8582, Validation Recall: 0.8406, Validation F1: 0.8492\n"
     ]
    },
    {
     "name": "stderr",
     "output_type": "stream",
     "text": [
      "Training Epoch 91/150: 100%|██████████| 90/90 [00:20<00:00,  4.33it/s]\n"
     ]
    },
    {
     "name": "stdout",
     "output_type": "stream",
     "text": [
      "Epoch [91/150], Train Loss: 0.1185, Train Accuracy: 0.9540, Train Precision: 0.8614, Train Recall: 0.8507, Train F1: 0.8555\n",
      "Epoch [91/150], Validation Loss: 0.1350, Validation Accuracy: 0.9473, Validation Precision: 0.8526, Validation Recall: 0.8478, Validation F1: 0.8502\n"
     ]
    },
    {
     "name": "stderr",
     "output_type": "stream",
     "text": [
      "Training Epoch 92/150: 100%|██████████| 90/90 [00:18<00:00,  5.00it/s]\n"
     ]
    },
    {
     "name": "stdout",
     "output_type": "stream",
     "text": [
      "Epoch [92/150], Train Loss: 0.1159, Train Accuracy: 0.9551, Train Precision: 0.8622, Train Recall: 0.8505, Train F1: 0.8557\n",
      "Epoch [92/150], Validation Loss: 0.1355, Validation Accuracy: 0.9472, Validation Precision: 0.8632, Validation Recall: 0.8358, Validation F1: 0.8485\n"
     ]
    },
    {
     "name": "stderr",
     "output_type": "stream",
     "text": [
      "Training Epoch 93/150: 100%|██████████| 90/90 [00:19<00:00,  4.55it/s]\n"
     ]
    },
    {
     "name": "stdout",
     "output_type": "stream",
     "text": [
      "Epoch [93/150], Train Loss: 0.1229, Train Accuracy: 0.9529, Train Precision: 0.8611, Train Recall: 0.8507, Train F1: 0.8552\n",
      "Epoch [93/150], Validation Loss: 0.1360, Validation Accuracy: 0.9470, Validation Precision: 0.8617, Validation Recall: 0.8364, Validation F1: 0.8483\n"
     ]
    },
    {
     "name": "stderr",
     "output_type": "stream",
     "text": [
      "Training Epoch 94/150: 100%|██████████| 90/90 [00:18<00:00,  4.88it/s]\n"
     ]
    },
    {
     "name": "stdout",
     "output_type": "stream",
     "text": [
      "Epoch [94/150], Train Loss: 0.1196, Train Accuracy: 0.9544, Train Precision: 0.8615, Train Recall: 0.8505, Train F1: 0.8554\n",
      "Epoch [94/150], Validation Loss: 0.1345, Validation Accuracy: 0.9475, Validation Precision: 0.8565, Validation Recall: 0.8447, Validation F1: 0.8502\n"
     ]
    },
    {
     "name": "stderr",
     "output_type": "stream",
     "text": [
      "Training Epoch 95/150: 100%|██████████| 90/90 [00:19<00:00,  4.58it/s]\n"
     ]
    },
    {
     "name": "stdout",
     "output_type": "stream",
     "text": [
      "Epoch [95/150], Train Loss: 0.1222, Train Accuracy: 0.9532, Train Precision: 0.8599, Train Recall: 0.8496, Train F1: 0.8542\n",
      "Epoch [95/150], Validation Loss: 0.1352, Validation Accuracy: 0.9476, Validation Precision: 0.8633, Validation Recall: 0.8370, Validation F1: 0.8490\n"
     ]
    },
    {
     "name": "stderr",
     "output_type": "stream",
     "text": [
      "Training Epoch 96/150: 100%|██████████| 90/90 [00:18<00:00,  4.90it/s]\n"
     ]
    },
    {
     "name": "stdout",
     "output_type": "stream",
     "text": [
      "Epoch [96/150], Train Loss: 0.1183, Train Accuracy: 0.9544, Train Precision: 0.8621, Train Recall: 0.8508, Train F1: 0.8558\n",
      "Epoch [96/150], Validation Loss: 0.1350, Validation Accuracy: 0.9474, Validation Precision: 0.8550, Validation Recall: 0.8454, Validation F1: 0.8502\n"
     ]
    },
    {
     "name": "stderr",
     "output_type": "stream",
     "text": [
      "Training Epoch 97/150: 100%|██████████| 90/90 [00:19<00:00,  4.55it/s]\n"
     ]
    },
    {
     "name": "stdout",
     "output_type": "stream",
     "text": [
      "Epoch [97/150], Train Loss: 0.1185, Train Accuracy: 0.9544, Train Precision: 0.8625, Train Recall: 0.8521, Train F1: 0.8567\n",
      "Epoch [97/150], Validation Loss: 0.1365, Validation Accuracy: 0.9470, Validation Precision: 0.8666, Validation Recall: 0.8309, Validation F1: 0.8465\n"
     ]
    },
    {
     "name": "stderr",
     "output_type": "stream",
     "text": [
      "Training Epoch 98/150: 100%|██████████| 90/90 [00:19<00:00,  4.72it/s]\n"
     ]
    },
    {
     "name": "stdout",
     "output_type": "stream",
     "text": [
      "Epoch [98/150], Train Loss: 0.1167, Train Accuracy: 0.9546, Train Precision: 0.8626, Train Recall: 0.8514, Train F1: 0.8564\n",
      "Epoch [98/150], Validation Loss: 0.1349, Validation Accuracy: 0.9476, Validation Precision: 0.8581, Validation Recall: 0.8431, Validation F1: 0.8503\n"
     ]
    },
    {
     "name": "stderr",
     "output_type": "stream",
     "text": [
      "Training Epoch 99/150: 100%|██████████| 90/90 [00:20<00:00,  4.43it/s]\n"
     ]
    },
    {
     "name": "stdout",
     "output_type": "stream",
     "text": [
      "Epoch [99/150], Train Loss: 0.1159, Train Accuracy: 0.9550, Train Precision: 0.8636, Train Recall: 0.8523, Train F1: 0.8573\n",
      "Epoch [99/150], Validation Loss: 0.1346, Validation Accuracy: 0.9478, Validation Precision: 0.8618, Validation Recall: 0.8407, Validation F1: 0.8499\n"
     ]
    },
    {
     "name": "stderr",
     "output_type": "stream",
     "text": [
      "Training Epoch 100/150: 100%|██████████| 90/90 [00:18<00:00,  4.92it/s]\n"
     ]
    },
    {
     "name": "stdout",
     "output_type": "stream",
     "text": [
      "Epoch [100/150], Train Loss: 0.1170, Train Accuracy: 0.9543, Train Precision: 0.8616, Train Recall: 0.8516, Train F1: 0.8560\n",
      "Epoch [100/150], Validation Loss: 0.1351, Validation Accuracy: 0.9475, Validation Precision: 0.8642, Validation Recall: 0.8364, Validation F1: 0.8477\n"
     ]
    },
    {
     "name": "stderr",
     "output_type": "stream",
     "text": [
      "Training Epoch 101/150: 100%|██████████| 90/90 [00:20<00:00,  4.41it/s]\n"
     ]
    },
    {
     "name": "stdout",
     "output_type": "stream",
     "text": [
      "Epoch [101/150], Train Loss: 0.1173, Train Accuracy: 0.9548, Train Precision: 0.8630, Train Recall: 0.8521, Train F1: 0.8570\n",
      "Epoch [101/150], Validation Loss: 0.1352, Validation Accuracy: 0.9477, Validation Precision: 0.8570, Validation Recall: 0.8449, Validation F1: 0.8507\n"
     ]
    },
    {
     "name": "stderr",
     "output_type": "stream",
     "text": [
      "Training Epoch 102/150: 100%|██████████| 90/90 [00:17<00:00,  5.00it/s]\n"
     ]
    },
    {
     "name": "stdout",
     "output_type": "stream",
     "text": [
      "Epoch [102/150], Train Loss: 0.1151, Train Accuracy: 0.9557, Train Precision: 0.8644, Train Recall: 0.8533, Train F1: 0.8582\n",
      "Epoch [102/150], Validation Loss: 0.1360, Validation Accuracy: 0.9473, Validation Precision: 0.8614, Validation Recall: 0.8386, Validation F1: 0.8496\n"
     ]
    },
    {
     "name": "stderr",
     "output_type": "stream",
     "text": [
      "Training Epoch 103/150: 100%|██████████| 90/90 [00:21<00:00,  4.14it/s]\n"
     ]
    },
    {
     "name": "stdout",
     "output_type": "stream",
     "text": [
      "Epoch [103/150], Train Loss: 0.1154, Train Accuracy: 0.9552, Train Precision: 0.8633, Train Recall: 0.8527, Train F1: 0.8575\n",
      "Epoch [103/150], Validation Loss: 0.1358, Validation Accuracy: 0.9475, Validation Precision: 0.8635, Validation Recall: 0.8379, Validation F1: 0.8498\n"
     ]
    },
    {
     "name": "stderr",
     "output_type": "stream",
     "text": [
      "Training Epoch 104/150: 100%|██████████| 90/90 [00:17<00:00,  5.00it/s]\n"
     ]
    },
    {
     "name": "stdout",
     "output_type": "stream",
     "text": [
      "Epoch [104/150], Train Loss: 0.1193, Train Accuracy: 0.9538, Train Precision: 0.8634, Train Recall: 0.8523, Train F1: 0.8572\n",
      "Epoch [104/150], Validation Loss: 0.1367, Validation Accuracy: 0.9473, Validation Precision: 0.8595, Validation Recall: 0.8402, Validation F1: 0.8496\n"
     ]
    },
    {
     "name": "stderr",
     "output_type": "stream",
     "text": [
      "Training Epoch 105/150: 100%|██████████| 90/90 [00:19<00:00,  4.60it/s]\n"
     ]
    },
    {
     "name": "stdout",
     "output_type": "stream",
     "text": [
      "Epoch [105/150], Train Loss: 0.1184, Train Accuracy: 0.9544, Train Precision: 0.8637, Train Recall: 0.8527, Train F1: 0.8576\n",
      "Epoch [105/150], Validation Loss: 0.1374, Validation Accuracy: 0.9471, Validation Precision: 0.8615, Validation Recall: 0.8375, Validation F1: 0.8491\n"
     ]
    },
    {
     "name": "stderr",
     "output_type": "stream",
     "text": [
      "Training Epoch 106/150: 100%|██████████| 90/90 [00:18<00:00,  4.97it/s]\n"
     ]
    },
    {
     "name": "stdout",
     "output_type": "stream",
     "text": [
      "Epoch [106/150], Train Loss: 0.1159, Train Accuracy: 0.9552, Train Precision: 0.8642, Train Recall: 0.8530, Train F1: 0.8580\n",
      "Epoch [106/150], Validation Loss: 0.1348, Validation Accuracy: 0.9478, Validation Precision: 0.8595, Validation Recall: 0.8430, Validation F1: 0.8509\n"
     ]
    },
    {
     "name": "stderr",
     "output_type": "stream",
     "text": [
      "Training Epoch 107/150: 100%|██████████| 90/90 [00:19<00:00,  4.57it/s]\n"
     ]
    },
    {
     "name": "stdout",
     "output_type": "stream",
     "text": [
      "Epoch [107/150], Train Loss: 0.1188, Train Accuracy: 0.9544, Train Precision: 0.8638, Train Recall: 0.8529, Train F1: 0.8578\n",
      "Epoch [107/150], Validation Loss: 0.1354, Validation Accuracy: 0.9474, Validation Precision: 0.8641, Validation Recall: 0.8355, Validation F1: 0.8487\n"
     ]
    },
    {
     "name": "stderr",
     "output_type": "stream",
     "text": [
      "Training Epoch 108/150: 100%|██████████| 90/90 [00:18<00:00,  4.82it/s]\n"
     ]
    },
    {
     "name": "stdout",
     "output_type": "stream",
     "text": [
      "Epoch [108/150], Train Loss: 0.1179, Train Accuracy: 0.9545, Train Precision: 0.8643, Train Recall: 0.8538, Train F1: 0.8585\n",
      "Epoch [108/150], Validation Loss: 0.1354, Validation Accuracy: 0.9474, Validation Precision: 0.8524, Validation Recall: 0.8485, Validation F1: 0.8505\n"
     ]
    },
    {
     "name": "stderr",
     "output_type": "stream",
     "text": [
      "Training Epoch 109/150: 100%|██████████| 90/90 [00:20<00:00,  4.42it/s]\n"
     ]
    },
    {
     "name": "stdout",
     "output_type": "stream",
     "text": [
      "Epoch [109/150], Train Loss: 0.1171, Train Accuracy: 0.9554, Train Precision: 0.8649, Train Recall: 0.8539, Train F1: 0.8588\n",
      "Epoch [109/150], Validation Loss: 0.1351, Validation Accuracy: 0.9475, Validation Precision: 0.8606, Validation Recall: 0.8404, Validation F1: 0.8501\n"
     ]
    },
    {
     "name": "stderr",
     "output_type": "stream",
     "text": [
      "Training Epoch 110/150: 100%|██████████| 90/90 [00:22<00:00,  4.05it/s]\n"
     ]
    },
    {
     "name": "stdout",
     "output_type": "stream",
     "text": [
      "Epoch [110/150], Train Loss: 0.1164, Train Accuracy: 0.9551, Train Precision: 0.8643, Train Recall: 0.8532, Train F1: 0.8582\n",
      "Epoch [110/150], Validation Loss: 0.1348, Validation Accuracy: 0.9476, Validation Precision: 0.8557, Validation Recall: 0.8454, Validation F1: 0.8504\n"
     ]
    },
    {
     "name": "stderr",
     "output_type": "stream",
     "text": [
      "Training Epoch 111/150: 100%|██████████| 90/90 [00:32<00:00,  2.75it/s]\n"
     ]
    },
    {
     "name": "stdout",
     "output_type": "stream",
     "text": [
      "Epoch [111/150], Train Loss: 0.1137, Train Accuracy: 0.9560, Train Precision: 0.8651, Train Recall: 0.8536, Train F1: 0.8588\n",
      "Epoch [111/150], Validation Loss: 0.1351, Validation Accuracy: 0.9473, Validation Precision: 0.8619, Validation Recall: 0.8385, Validation F1: 0.8497\n"
     ]
    },
    {
     "name": "stderr",
     "output_type": "stream",
     "text": [
      "Training Epoch 112/150: 100%|██████████| 90/90 [00:28<00:00,  3.20it/s]\n"
     ]
    },
    {
     "name": "stdout",
     "output_type": "stream",
     "text": [
      "Epoch [112/150], Train Loss: 0.1151, Train Accuracy: 0.9556, Train Precision: 0.8652, Train Recall: 0.8544, Train F1: 0.8592\n",
      "Epoch [112/150], Validation Loss: 0.1345, Validation Accuracy: 0.9478, Validation Precision: 0.8524, Validation Recall: 0.8509, Validation F1: 0.8516\n"
     ]
    },
    {
     "name": "stderr",
     "output_type": "stream",
     "text": [
      "Training Epoch 113/150: 100%|██████████| 90/90 [00:26<00:00,  3.38it/s]\n"
     ]
    },
    {
     "name": "stdout",
     "output_type": "stream",
     "text": [
      "Epoch [113/150], Train Loss: 0.1165, Train Accuracy: 0.9554, Train Precision: 0.8648, Train Recall: 0.8545, Train F1: 0.8591\n",
      "Epoch [113/150], Validation Loss: 0.1383, Validation Accuracy: 0.9467, Validation Precision: 0.8681, Validation Recall: 0.8281, Validation F1: 0.8465\n"
     ]
    },
    {
     "name": "stderr",
     "output_type": "stream",
     "text": [
      "Training Epoch 114/150: 100%|██████████| 90/90 [00:27<00:00,  3.33it/s]\n"
     ]
    },
    {
     "name": "stdout",
     "output_type": "stream",
     "text": [
      "Epoch [114/150], Train Loss: 0.1139, Train Accuracy: 0.9557, Train Precision: 0.8644, Train Recall: 0.8536, Train F1: 0.8585\n",
      "Epoch [114/150], Validation Loss: 0.1362, Validation Accuracy: 0.9472, Validation Precision: 0.8645, Validation Recall: 0.8347, Validation F1: 0.8486\n"
     ]
    },
    {
     "name": "stderr",
     "output_type": "stream",
     "text": [
      "Training Epoch 115/150: 100%|██████████| 90/90 [00:24<00:00,  3.60it/s]\n"
     ]
    },
    {
     "name": "stdout",
     "output_type": "stream",
     "text": [
      "Epoch [115/150], Train Loss: 0.1142, Train Accuracy: 0.9559, Train Precision: 0.8661, Train Recall: 0.8544, Train F1: 0.8597\n",
      "Epoch [115/150], Validation Loss: 0.1344, Validation Accuracy: 0.9480, Validation Precision: 0.8581, Validation Recall: 0.8463, Validation F1: 0.8512\n"
     ]
    },
    {
     "name": "stderr",
     "output_type": "stream",
     "text": [
      "Training Epoch 116/150: 100%|██████████| 90/90 [00:28<00:00,  3.14it/s]\n"
     ]
    },
    {
     "name": "stdout",
     "output_type": "stream",
     "text": [
      "Epoch [116/150], Train Loss: 0.1133, Train Accuracy: 0.9563, Train Precision: 0.8656, Train Recall: 0.8552, Train F1: 0.8599\n",
      "Epoch [116/150], Validation Loss: 0.1361, Validation Accuracy: 0.9474, Validation Precision: 0.8640, Validation Recall: 0.8365, Validation F1: 0.8496\n"
     ]
    },
    {
     "name": "stderr",
     "output_type": "stream",
     "text": [
      "Training Epoch 117/150: 100%|██████████| 90/90 [00:38<00:00,  2.32it/s]\n"
     ]
    },
    {
     "name": "stdout",
     "output_type": "stream",
     "text": [
      "Epoch [117/150], Train Loss: 0.1140, Train Accuracy: 0.9557, Train Precision: 0.8663, Train Recall: 0.8552, Train F1: 0.8601\n",
      "Epoch [117/150], Validation Loss: 0.1345, Validation Accuracy: 0.9479, Validation Precision: 0.8604, Validation Recall: 0.8435, Validation F1: 0.8511\n"
     ]
    },
    {
     "name": "stderr",
     "output_type": "stream",
     "text": [
      "Training Epoch 118/150: 100%|██████████| 90/90 [00:38<00:00,  2.32it/s]\n"
     ]
    },
    {
     "name": "stdout",
     "output_type": "stream",
     "text": [
      "Epoch [118/150], Train Loss: 0.1143, Train Accuracy: 0.9561, Train Precision: 0.8666, Train Recall: 0.8555, Train F1: 0.8604\n",
      "Epoch [118/150], Validation Loss: 0.1397, Validation Accuracy: 0.9460, Validation Precision: 0.8639, Validation Recall: 0.8315, Validation F1: 0.8470\n"
     ]
    },
    {
     "name": "stderr",
     "output_type": "stream",
     "text": [
      "Training Epoch 119/150: 100%|██████████| 90/90 [00:34<00:00,  2.61it/s]\n"
     ]
    },
    {
     "name": "stdout",
     "output_type": "stream",
     "text": [
      "Epoch [119/150], Train Loss: 0.1148, Train Accuracy: 0.9558, Train Precision: 0.8657, Train Recall: 0.8548, Train F1: 0.8597\n",
      "Epoch [119/150], Validation Loss: 0.1345, Validation Accuracy: 0.9478, Validation Precision: 0.8620, Validation Recall: 0.8419, Validation F1: 0.8515\n"
     ]
    },
    {
     "name": "stderr",
     "output_type": "stream",
     "text": [
      "Training Epoch 120/150: 100%|██████████| 90/90 [00:31<00:00,  2.88it/s]\n"
     ]
    },
    {
     "name": "stdout",
     "output_type": "stream",
     "text": [
      "Epoch [120/150], Train Loss: 0.1137, Train Accuracy: 0.9561, Train Precision: 0.8665, Train Recall: 0.8551, Train F1: 0.8602\n",
      "Epoch [120/150], Validation Loss: 0.1372, Validation Accuracy: 0.9472, Validation Precision: 0.8676, Validation Recall: 0.8322, Validation F1: 0.8485\n"
     ]
    },
    {
     "name": "stderr",
     "output_type": "stream",
     "text": [
      "Training Epoch 121/150: 100%|██████████| 90/90 [00:25<00:00,  3.57it/s]\n"
     ]
    },
    {
     "name": "stdout",
     "output_type": "stream",
     "text": [
      "Epoch [121/150], Train Loss: 0.1139, Train Accuracy: 0.9558, Train Precision: 0.8662, Train Recall: 0.8562, Train F1: 0.8607\n",
      "Epoch [121/150], Validation Loss: 0.1351, Validation Accuracy: 0.9479, Validation Precision: 0.8611, Validation Recall: 0.8429, Validation F1: 0.8517\n"
     ]
    },
    {
     "name": "stderr",
     "output_type": "stream",
     "text": [
      "Training Epoch 122/150: 100%|██████████| 90/90 [00:26<00:00,  3.41it/s]\n"
     ]
    },
    {
     "name": "stdout",
     "output_type": "stream",
     "text": [
      "Epoch [122/150], Train Loss: 0.1157, Train Accuracy: 0.9554, Train Precision: 0.8661, Train Recall: 0.8556, Train F1: 0.8603\n",
      "Epoch [122/150], Validation Loss: 0.1339, Validation Accuracy: 0.9481, Validation Precision: 0.8606, Validation Recall: 0.8445, Validation F1: 0.8520\n"
     ]
    },
    {
     "name": "stderr",
     "output_type": "stream",
     "text": [
      "Training Epoch 123/150: 100%|██████████| 90/90 [00:24<00:00,  3.63it/s]\n"
     ]
    },
    {
     "name": "stdout",
     "output_type": "stream",
     "text": [
      "Epoch [123/150], Train Loss: 0.1118, Train Accuracy: 0.9568, Train Precision: 0.8673, Train Recall: 0.8563, Train F1: 0.8612\n",
      "Epoch [123/150], Validation Loss: 0.1347, Validation Accuracy: 0.9478, Validation Precision: 0.8629, Validation Recall: 0.8396, Validation F1: 0.8506\n"
     ]
    },
    {
     "name": "stderr",
     "output_type": "stream",
     "text": [
      "Training Epoch 124/150: 100%|██████████| 90/90 [00:22<00:00,  3.92it/s]\n"
     ]
    },
    {
     "name": "stdout",
     "output_type": "stream",
     "text": [
      "Epoch [124/150], Train Loss: 0.1145, Train Accuracy: 0.9560, Train Precision: 0.8678, Train Recall: 0.8564, Train F1: 0.8615\n",
      "Epoch [124/150], Validation Loss: 0.1353, Validation Accuracy: 0.9477, Validation Precision: 0.8563, Validation Recall: 0.8474, Validation F1: 0.8518\n"
     ]
    },
    {
     "name": "stderr",
     "output_type": "stream",
     "text": [
      "Training Epoch 125/150: 100%|██████████| 90/90 [00:21<00:00,  4.14it/s]\n"
     ]
    },
    {
     "name": "stdout",
     "output_type": "stream",
     "text": [
      "Epoch [125/150], Train Loss: 0.1123, Train Accuracy: 0.9571, Train Precision: 0.8684, Train Recall: 0.8570, Train F1: 0.8621\n",
      "Epoch [125/150], Validation Loss: 0.1350, Validation Accuracy: 0.9477, Validation Precision: 0.8588, Validation Recall: 0.8439, Validation F1: 0.8512\n"
     ]
    },
    {
     "name": "stderr",
     "output_type": "stream",
     "text": [
      "Training Epoch 126/150: 100%|██████████| 90/90 [00:18<00:00,  4.78it/s]\n"
     ]
    },
    {
     "name": "stdout",
     "output_type": "stream",
     "text": [
      "Epoch [126/150], Train Loss: 0.1161, Train Accuracy: 0.9549, Train Precision: 0.8609, Train Recall: 0.8497, Train F1: 0.8547\n",
      "Epoch [126/150], Validation Loss: 0.1348, Validation Accuracy: 0.9476, Validation Precision: 0.8560, Validation Recall: 0.8464, Validation F1: 0.8511\n"
     ]
    },
    {
     "name": "stderr",
     "output_type": "stream",
     "text": [
      "Training Epoch 127/150: 100%|██████████| 90/90 [00:26<00:00,  3.40it/s]\n"
     ]
    },
    {
     "name": "stdout",
     "output_type": "stream",
     "text": [
      "Epoch [127/150], Train Loss: 0.1171, Train Accuracy: 0.9549, Train Precision: 0.8650, Train Recall: 0.8538, Train F1: 0.8588\n",
      "Epoch [127/150], Validation Loss: 0.1347, Validation Accuracy: 0.9476, Validation Precision: 0.8610, Validation Recall: 0.8406, Validation F1: 0.8504\n"
     ]
    },
    {
     "name": "stderr",
     "output_type": "stream",
     "text": [
      "Training Epoch 128/150: 100%|██████████| 90/90 [00:23<00:00,  3.78it/s]\n"
     ]
    },
    {
     "name": "stdout",
     "output_type": "stream",
     "text": [
      "Epoch [128/150], Train Loss: 0.1146, Train Accuracy: 0.9556, Train Precision: 0.8657, Train Recall: 0.8547, Train F1: 0.8597\n",
      "Epoch [128/150], Validation Loss: 0.1344, Validation Accuracy: 0.9478, Validation Precision: 0.8585, Validation Recall: 0.8448, Validation F1: 0.8515\n"
     ]
    },
    {
     "name": "stderr",
     "output_type": "stream",
     "text": [
      "Training Epoch 129/150: 100%|██████████| 90/90 [00:25<00:00,  3.52it/s]\n"
     ]
    },
    {
     "name": "stdout",
     "output_type": "stream",
     "text": [
      "Epoch [129/150], Train Loss: 0.1143, Train Accuracy: 0.9561, Train Precision: 0.8669, Train Recall: 0.8560, Train F1: 0.8609\n",
      "Epoch [129/150], Validation Loss: 0.1353, Validation Accuracy: 0.9476, Validation Precision: 0.8577, Validation Recall: 0.8448, Validation F1: 0.8512\n"
     ]
    },
    {
     "name": "stderr",
     "output_type": "stream",
     "text": [
      "Training Epoch 130/150: 100%|██████████| 90/90 [00:24<00:00,  3.70it/s]\n"
     ]
    },
    {
     "name": "stdout",
     "output_type": "stream",
     "text": [
      "Epoch [130/150], Train Loss: 0.1108, Train Accuracy: 0.9571, Train Precision: 0.8670, Train Recall: 0.8568, Train F1: 0.8614\n",
      "Epoch [130/150], Validation Loss: 0.1339, Validation Accuracy: 0.9483, Validation Precision: 0.8615, Validation Recall: 0.8450, Validation F1: 0.8526\n"
     ]
    },
    {
     "name": "stderr",
     "output_type": "stream",
     "text": [
      "Training Epoch 131/150: 100%|██████████| 90/90 [00:23<00:00,  3.87it/s]\n"
     ]
    },
    {
     "name": "stdout",
     "output_type": "stream",
     "text": [
      "Epoch [131/150], Train Loss: 0.1148, Train Accuracy: 0.9558, Train Precision: 0.8670, Train Recall: 0.8560, Train F1: 0.8609\n",
      "Epoch [131/150], Validation Loss: 0.1351, Validation Accuracy: 0.9479, Validation Precision: 0.8641, Validation Recall: 0.8394, Validation F1: 0.8510\n"
     ]
    },
    {
     "name": "stderr",
     "output_type": "stream",
     "text": [
      "Training Epoch 132/150: 100%|██████████| 90/90 [00:22<00:00,  3.93it/s]\n"
     ]
    },
    {
     "name": "stdout",
     "output_type": "stream",
     "text": [
      "Epoch [132/150], Train Loss: 0.1136, Train Accuracy: 0.9561, Train Precision: 0.8671, Train Recall: 0.8563, Train F1: 0.8611\n",
      "Epoch [132/150], Validation Loss: 0.1342, Validation Accuracy: 0.9481, Validation Precision: 0.8629, Validation Recall: 0.8415, Validation F1: 0.8513\n"
     ]
    },
    {
     "name": "stderr",
     "output_type": "stream",
     "text": [
      "Training Epoch 133/150: 100%|██████████| 90/90 [00:25<00:00,  3.56it/s]\n"
     ]
    },
    {
     "name": "stdout",
     "output_type": "stream",
     "text": [
      "Epoch [133/150], Train Loss: 0.1152, Train Accuracy: 0.9559, Train Precision: 0.8674, Train Recall: 0.8573, Train F1: 0.8618\n",
      "Epoch [133/150], Validation Loss: 0.1351, Validation Accuracy: 0.9475, Validation Precision: 0.8655, Validation Recall: 0.8350, Validation F1: 0.8488\n"
     ]
    },
    {
     "name": "stderr",
     "output_type": "stream",
     "text": [
      "Training Epoch 134/150: 100%|██████████| 90/90 [00:24<00:00,  3.71it/s]\n"
     ]
    },
    {
     "name": "stdout",
     "output_type": "stream",
     "text": [
      "Epoch [134/150], Train Loss: 0.1150, Train Accuracy: 0.9557, Train Precision: 0.8684, Train Recall: 0.8570, Train F1: 0.8622\n",
      "Epoch [134/150], Validation Loss: 0.1345, Validation Accuracy: 0.9480, Validation Precision: 0.8590, Validation Recall: 0.8454, Validation F1: 0.8521\n"
     ]
    },
    {
     "name": "stderr",
     "output_type": "stream",
     "text": [
      "Training Epoch 135/150: 100%|██████████| 90/90 [00:22<00:00,  4.00it/s]\n"
     ]
    },
    {
     "name": "stdout",
     "output_type": "stream",
     "text": [
      "Epoch [135/150], Train Loss: 0.1107, Train Accuracy: 0.9572, Train Precision: 0.8682, Train Recall: 0.8582, Train F1: 0.8627\n",
      "Epoch [135/150], Validation Loss: 0.1340, Validation Accuracy: 0.9481, Validation Precision: 0.8587, Validation Recall: 0.8469, Validation F1: 0.8526\n"
     ]
    },
    {
     "name": "stderr",
     "output_type": "stream",
     "text": [
      "Training Epoch 136/150: 100%|██████████| 90/90 [00:22<00:00,  3.93it/s]\n"
     ]
    },
    {
     "name": "stdout",
     "output_type": "stream",
     "text": [
      "Epoch [136/150], Train Loss: 0.1113, Train Accuracy: 0.9570, Train Precision: 0.8684, Train Recall: 0.8574, Train F1: 0.8624\n",
      "Epoch [136/150], Validation Loss: 0.1350, Validation Accuracy: 0.9479, Validation Precision: 0.8616, Validation Recall: 0.8424, Validation F1: 0.8516\n"
     ]
    },
    {
     "name": "stderr",
     "output_type": "stream",
     "text": [
      "Training Epoch 137/150: 100%|██████████| 90/90 [00:26<00:00,  3.41it/s]\n"
     ]
    },
    {
     "name": "stdout",
     "output_type": "stream",
     "text": [
      "Epoch [137/150], Train Loss: 0.1134, Train Accuracy: 0.9564, Train Precision: 0.8692, Train Recall: 0.8578, Train F1: 0.8629\n",
      "Epoch [137/150], Validation Loss: 0.1367, Validation Accuracy: 0.9476, Validation Precision: 0.8664, Validation Recall: 0.8342, Validation F1: 0.8488\n"
     ]
    },
    {
     "name": "stderr",
     "output_type": "stream",
     "text": [
      "Training Epoch 138/150: 100%|██████████| 90/90 [00:23<00:00,  3.77it/s]\n"
     ]
    },
    {
     "name": "stdout",
     "output_type": "stream",
     "text": [
      "Epoch [138/150], Train Loss: 0.1146, Train Accuracy: 0.9559, Train Precision: 0.8690, Train Recall: 0.8575, Train F1: 0.8627\n",
      "Epoch [138/150], Validation Loss: 0.1358, Validation Accuracy: 0.9476, Validation Precision: 0.8631, Validation Recall: 0.8399, Validation F1: 0.8511\n"
     ]
    },
    {
     "name": "stderr",
     "output_type": "stream",
     "text": [
      "Training Epoch 139/150: 100%|██████████| 90/90 [00:27<00:00,  3.29it/s]\n"
     ]
    },
    {
     "name": "stdout",
     "output_type": "stream",
     "text": [
      "Epoch [139/150], Train Loss: 0.1135, Train Accuracy: 0.9562, Train Precision: 0.8680, Train Recall: 0.8577, Train F1: 0.8623\n",
      "Epoch [139/150], Validation Loss: 0.1354, Validation Accuracy: 0.9482, Validation Precision: 0.8589, Validation Recall: 0.8477, Validation F1: 0.8532\n"
     ]
    },
    {
     "name": "stderr",
     "output_type": "stream",
     "text": [
      "Training Epoch 140/150: 100%|██████████| 90/90 [00:27<00:00,  3.33it/s]\n"
     ]
    },
    {
     "name": "stdout",
     "output_type": "stream",
     "text": [
      "Epoch [140/150], Train Loss: 0.1092, Train Accuracy: 0.9576, Train Precision: 0.8693, Train Recall: 0.8583, Train F1: 0.8633\n",
      "Epoch [140/150], Validation Loss: 0.1347, Validation Accuracy: 0.9480, Validation Precision: 0.8616, Validation Recall: 0.8435, Validation F1: 0.8522\n"
     ]
    },
    {
     "name": "stderr",
     "output_type": "stream",
     "text": [
      "Training Epoch 141/150: 100%|██████████| 90/90 [00:26<00:00,  3.40it/s]\n"
     ]
    },
    {
     "name": "stdout",
     "output_type": "stream",
     "text": [
      "Epoch [141/150], Train Loss: 0.1135, Train Accuracy: 0.9564, Train Precision: 0.8682, Train Recall: 0.8581, Train F1: 0.8626\n",
      "Epoch [141/150], Validation Loss: 0.1368, Validation Accuracy: 0.9474, Validation Precision: 0.8655, Validation Recall: 0.8357, Validation F1: 0.8499\n"
     ]
    },
    {
     "name": "stderr",
     "output_type": "stream",
     "text": [
      "Training Epoch 142/150: 100%|██████████| 90/90 [00:24<00:00,  3.73it/s]\n"
     ]
    },
    {
     "name": "stdout",
     "output_type": "stream",
     "text": [
      "Epoch [142/150], Train Loss: 0.1127, Train Accuracy: 0.9570, Train Precision: 0.8691, Train Recall: 0.8588, Train F1: 0.8635\n",
      "Epoch [142/150], Validation Loss: 0.1348, Validation Accuracy: 0.9480, Validation Precision: 0.8656, Validation Recall: 0.8388, Validation F1: 0.8510\n"
     ]
    },
    {
     "name": "stderr",
     "output_type": "stream",
     "text": [
      "Training Epoch 143/150: 100%|██████████| 90/90 [00:24<00:00,  3.68it/s]\n"
     ]
    },
    {
     "name": "stdout",
     "output_type": "stream",
     "text": [
      "Epoch [143/150], Train Loss: 0.1144, Train Accuracy: 0.9559, Train Precision: 0.8690, Train Recall: 0.8578, Train F1: 0.8629\n",
      "Epoch [143/150], Validation Loss: 0.1350, Validation Accuracy: 0.9480, Validation Precision: 0.8627, Validation Recall: 0.8421, Validation F1: 0.8519\n"
     ]
    },
    {
     "name": "stderr",
     "output_type": "stream",
     "text": [
      "Training Epoch 144/150: 100%|██████████| 90/90 [00:23<00:00,  3.77it/s]\n"
     ]
    },
    {
     "name": "stdout",
     "output_type": "stream",
     "text": [
      "Epoch [144/150], Train Loss: 0.1137, Train Accuracy: 0.9562, Train Precision: 0.8694, Train Recall: 0.8580, Train F1: 0.8632\n",
      "Epoch [144/150], Validation Loss: 0.1344, Validation Accuracy: 0.9482, Validation Precision: 0.8610, Validation Recall: 0.8450, Validation F1: 0.8527\n"
     ]
    },
    {
     "name": "stderr",
     "output_type": "stream",
     "text": [
      "Training Epoch 145/150: 100%|██████████| 90/90 [00:23<00:00,  3.82it/s]\n"
     ]
    },
    {
     "name": "stdout",
     "output_type": "stream",
     "text": [
      "Epoch [145/150], Train Loss: 0.1114, Train Accuracy: 0.9569, Train Precision: 0.8691, Train Recall: 0.8594, Train F1: 0.8637\n",
      "Epoch [145/150], Validation Loss: 0.1359, Validation Accuracy: 0.9479, Validation Precision: 0.8647, Validation Recall: 0.8386, Validation F1: 0.8510\n"
     ]
    },
    {
     "name": "stderr",
     "output_type": "stream",
     "text": [
      "Training Epoch 146/150: 100%|██████████| 90/90 [00:24<00:00,  3.66it/s]\n"
     ]
    },
    {
     "name": "stdout",
     "output_type": "stream",
     "text": [
      "Epoch [146/150], Train Loss: 0.1118, Train Accuracy: 0.9567, Train Precision: 0.8697, Train Recall: 0.8585, Train F1: 0.8636\n",
      "Epoch [146/150], Validation Loss: 0.1355, Validation Accuracy: 0.9480, Validation Precision: 0.8612, Validation Recall: 0.8441, Validation F1: 0.8524\n"
     ]
    },
    {
     "name": "stderr",
     "output_type": "stream",
     "text": [
      "Training Epoch 147/150: 100%|██████████| 90/90 [00:28<00:00,  3.19it/s]\n"
     ]
    },
    {
     "name": "stdout",
     "output_type": "stream",
     "text": [
      "Epoch [147/150], Train Loss: 0.1116, Train Accuracy: 0.9570, Train Precision: 0.8698, Train Recall: 0.8587, Train F1: 0.8638\n",
      "Epoch [147/150], Validation Loss: 0.1358, Validation Accuracy: 0.9479, Validation Precision: 0.8635, Validation Recall: 0.8400, Validation F1: 0.8512\n"
     ]
    },
    {
     "name": "stderr",
     "output_type": "stream",
     "text": [
      "Training Epoch 148/150: 100%|██████████| 90/90 [00:28<00:00,  3.14it/s]\n"
     ]
    },
    {
     "name": "stdout",
     "output_type": "stream",
     "text": [
      "Epoch [148/150], Train Loss: 0.1106, Train Accuracy: 0.9572, Train Precision: 0.8691, Train Recall: 0.8594, Train F1: 0.8638\n",
      "Epoch [148/150], Validation Loss: 0.1417, Validation Accuracy: 0.9462, Validation Precision: 0.8732, Validation Recall: 0.8220, Validation F1: 0.8449\n"
     ]
    },
    {
     "name": "stderr",
     "output_type": "stream",
     "text": [
      "Training Epoch 149/150: 100%|██████████| 90/90 [00:29<00:00,  3.03it/s]\n"
     ]
    },
    {
     "name": "stdout",
     "output_type": "stream",
     "text": [
      "Epoch [149/150], Train Loss: 0.1116, Train Accuracy: 0.9572, Train Precision: 0.8703, Train Recall: 0.8584, Train F1: 0.8638\n",
      "Epoch [149/150], Validation Loss: 0.1346, Validation Accuracy: 0.9479, Validation Precision: 0.8653, Validation Recall: 0.8390, Validation F1: 0.8514\n"
     ]
    },
    {
     "name": "stderr",
     "output_type": "stream",
     "text": [
      "Training Epoch 150/150: 100%|██████████| 90/90 [00:27<00:00,  3.22it/s]\n"
     ]
    },
    {
     "name": "stdout",
     "output_type": "stream",
     "text": [
      "Epoch [150/150], Train Loss: 0.1119, Train Accuracy: 0.9569, Train Precision: 0.8702, Train Recall: 0.8592, Train F1: 0.8642\n",
      "Epoch [150/150], Validation Loss: 0.1348, Validation Accuracy: 0.9479, Validation Precision: 0.8653, Validation Recall: 0.8381, Validation F1: 0.8508\n"
     ]
    }
   ],
   "source": [
    "best_results, filename = test_train(best_parameters)"
   ],
   "metadata": {
    "collapsed": false,
    "ExecuteTime": {
     "end_time": "2024-03-18T16:25:51.426976Z",
     "start_time": "2024-03-18T14:38:13.835197Z"
    }
   },
   "execution_count": 52
  },
  {
   "cell_type": "code",
   "outputs": [],
   "source": [
    "def predict_and_save_test_set_modified(model, batch_size, filename):\n",
    "\n",
    "    seqs_test_path = 'kaggle/input/deep-learning-for-msc-202324/seqs_test.csv'\n",
    "    pssm_test_path = 'kaggle/input/deep-learning-for-msc-202324/test/'\n",
    "    output_csv_path = f'kaggle/output/{filename}.csv'\n",
    "    \n",
    "    struct_to_ix = {'H': 0, 'E': 1, 'C': 2}\n",
    "    ix_to_struct = {v: k for k, v in struct_to_ix.items()}\n",
    "\n",
    "    # initialize the test dataset and data loader\n",
    "    dataset_test = ProteinDataset(seqs_test_path, pssm_test_path)\n",
    "    dataloader_test = DataLoader(dataset_test, batch_size=batch_size, shuffle=False,  collate_fn=protein_collate_fn, pin_memory=True)\n",
    "\n",
    "    submission = [['ID', 'STRUCTURE']]\n",
    "    model.eval()\n",
    "\n",
    "    with torch.no_grad():\n",
    "        for batch_index, batch in enumerate(dataloader_test):\n",
    "            sequences = batch['sequence'].to(device)\n",
    "            pssms = batch['pssm'].to(device)\n",
    "            pdb_ids = batch['pdb_id']\n",
    "            real_lens = batch['real_len']\n",
    "            \n",
    "            print(f\"Batch {batch_index + 1}/{len(dataloader_test)}\")\n",
    "\n",
    "            outputs = model(sequences, pssms)\n",
    "            _, predicted = torch.max(outputs, 2)\n",
    "\n",
    "            # split the batch predictions into individual sequences\n",
    "            for i, pdb_id in enumerate(pdb_ids):\n",
    "                real_len = real_lens[i].item()\n",
    "                # print(f\"{pdb_id} with {real_len} residues\")\n",
    "                \n",
    "                for j in range(real_len):\n",
    "                    residue_prediction = predicted[i][j].cpu().item()\n",
    "                    submission.append([f\"{pdb_id}_{j+1}\", ix_to_struct[residue_prediction]])\n",
    "                    # print(f\"{pdb_id}_{j+1} with {ix_to_struct[residue_prediction]}\")\n",
    "                \n",
    "\n",
    "    # save the predictions to a CSV file\n",
    "    with open(output_csv_path, 'w') as f:\n",
    "        for line in submission:\n",
    "            f.write(','.join(line) + '\\n')\n",
    "            \n",
    "    print(f\"Total predictions made: {len(submission) - 1}\")\n",
    "    print(f'file saved to {output_csv_path}')\n",
    "\n",
    "    return model, dataloader_test"
   ],
   "metadata": {
    "collapsed": false,
    "ExecuteTime": {
     "end_time": "2024-03-18T16:25:52.943062Z",
     "start_time": "2024-03-18T16:25:52.921119Z"
    }
   },
   "execution_count": 53
  },
  {
   "cell_type": "code",
   "outputs": [
    {
     "data": {
      "text/plain": "'64_150_7_0.1858316733276795_0.0015518165052243'"
     },
     "execution_count": 54,
     "metadata": {},
     "output_type": "execute_result"
    }
   ],
   "source": [
    "filename"
   ],
   "metadata": {
    "collapsed": false,
    "ExecuteTime": {
     "end_time": "2024-03-18T16:25:53.488259Z",
     "start_time": "2024-03-18T16:25:53.468648Z"
    }
   },
   "execution_count": 54
  },
  {
   "cell_type": "code",
   "outputs": [
    {
     "name": "stdout",
     "output_type": "stream",
     "text": [
      "Batch 1/4\n",
      "Batch 2/4\n",
      "Batch 3/4\n",
      "Batch 4/4\n",
      "Total predictions made: 43161\n",
      "file saved to kaggle/output/64_150_7_0.1858316733276795_0.0015518165052243.csv\n"
     ]
    }
   ],
   "source": [
    "test_model, dataloader_test = predict_and_save_test_set_modified(best_results['model'], best_parameters['batch_size'], filename)"
   ],
   "metadata": {
    "collapsed": false,
    "ExecuteTime": {
     "end_time": "2024-03-18T16:25:56.344993Z",
     "start_time": "2024-03-18T16:25:54.031045Z"
    }
   },
   "execution_count": 55
  },
  {
   "cell_type": "code",
   "outputs": [
    {
     "data": {
      "text/plain": "<Figure size 1200x600 with 2 Axes>",
      "image/png": "[encoded data removed]"
     },
     "metadata": {},
     "output_type": "display_data"
    }
   ],
   "source": [
    "plot_loss_accuracy_history(best_results['metrics'])\n",
    "# render(ax_client.get_contour_plot(param_x=\"lr\", param_y=\"momentum\", metric_name=\"accuracy\"))\n",
    "# render(ax_client.get_optimization_trace())"
   ],
   "metadata": {
    "collapsed": false,
    "ExecuteTime": {
     "end_time": "2024-03-18T16:25:57.496616Z",
     "start_time": "2024-03-18T16:25:57.157859Z"
    }
   },
   "execution_count": 56
  },
  {
   "cell_type": "markdown",
   "source": [
    "# 7. Explain the model predictions with Captum"
   ],
   "metadata": {
    "collapsed": false
   }
  },
  {
   "cell_type": "code",
   "outputs": [],
   "source": [
    "def visualize_attributions(attributions_seq, attributions_pssm, amino_acids=None):\n",
    "    \"\"\"\n",
    "    可视化氨基酸序列和PSSM特征的归因分数。\n",
    "    \n",
    "    参数:\n",
    "    - attributions_seq: 氨基酸序列的归因分数，形状为(batch_size, seq_len)。\n",
    "    - attributions_pssm: PSSM特征的归因分数，形状为(batch_size, seq_len, num_features)。\n",
    "    - amino_acids: 可选，氨基酸序列的列表，用于x轴标签。\n",
    "    \"\"\"\n",
    "    # 假设我们只可视化第一个样本\n",
    "    sample_attributions_seq = attributions_seq[0]\n",
    "    sample_attributions_pssm = attributions_pssm[0]\n",
    "\n",
    "    fig, ax = plt.subplots(2, 1, figsize=(12, 8))\n",
    "\n",
    "    # 绘制氨基酸序列的归因分数条形图\n",
    "    ax[0].bar(range(len(sample_attributions_seq)), sample_attributions_seq)\n",
    "    ax[0].set_title('氨基酸序列的归因分数')\n",
    "    ax[0].set_xlabel('氨基酸位置')\n",
    "    ax[0].set_ylabel('归因分数')\n",
    "    if amino_acids:\n",
    "        ax[0].set_xticks(range(len(amino_acids)))\n",
    "        ax[0].set_xticklabels(amino_acids, rotation=45, ha=\"right\")\n",
    "\n",
    "    # 绘制PSSM特征的归因分数热图\n",
    "    cax = ax[1].matshow(sample_attributions_pssm, aspect='auto', cmap='viridis')\n",
    "    fig.colorbar(cax, ax=ax[1])\n",
    "    ax[1].set_title('PSSM特征的归因分数')\n",
    "    \n",
    "    ax[1].set_xlabel('特征')\n",
    "    ax[1].set_ylabel('氨基酸位置')\n",
    "\n",
    "    plt.tight_layout()\n",
    "    plt.show()"
   ],
   "metadata": {
    "collapsed": false,
    "ExecuteTime": {
     "start_time": "2024-03-18T13:04:55.682624Z"
    }
   },
   "execution_count": null
  },
  {
   "cell_type": "code",
   "outputs": [],
   "source": [
    "def attributions(model, dataloader_test):\n",
    "    # integrated_gradients = IntegratedGradients(model)\n",
    "    # \n",
    "    # sample = next(iter(dataloader_test))\n",
    "    # sequences = sample['sequence'].to(device)\n",
    "    # pssms = sample['pssm'].to(device)\n",
    "    # \n",
    "    # attributions = integrated_gradients.attribute((sequences, pssms), target=0)\n",
    "    # attributions = attributions.cpu().detach().numpy()\n",
    "    # \n",
    "    # \n",
    "    # # attributions_seq = integrated_gradients.attribute(sequences, target=0)  # target是所求梯度的类索引\n",
    "    # # attributions_pssm = integrated_gradients.attribute(pssms, target=0)\n",
    "    # # \n",
    "    # # attributions_seq = attributions_seq.cpu().detach().numpy()\n",
    "    # # attributions_pssm = attributions_pssm.cpu().detach().numpy()\n",
    "    # \n",
    "    # return attributions\n",
    "    \n",
    "    # 归因计算逻辑\n",
    "    # 注意：这里假设你想要对测试集中的第一个样本进行归因分析\n",
    "    sample = next(iter(dataloader_test))\n",
    "    sequences = sample['sequence'].to(device)\n",
    "    pssms = sample['pssm'].to(device)\n",
    "\n",
    "    # 确保使用模型的评估模式\n",
    "    model.eval()\n",
    "\n",
    "    # 初始化IntegratedGradients实例\n",
    "    integrated_gradients = IntegratedGradients(model)\n",
    "\n",
    "    # 计算归因\n",
    "    # 重要：确保传递一个包含所有输入的元组，并且每个输入都是适当的数据类型\n",
    "    attributions_seq, attributions_pssm = integrated_gradients.attribute(inputs=(sequences, pssms), target=0, additional_forward_args=None)\n",
    "    attributions_seq = attributions_seq.cpu().detach().numpy()\n",
    "    attributions_pssm = attributions_pssm.cpu().detach().numpy()\n",
    "\n",
    "    # 这里，你可以根据需要进一步处理或保存归因结果\n",
    "    ...\n",
    "\n",
    "    return attributions_seq, attributions_pssm"
   ],
   "metadata": {
    "collapsed": false,
    "ExecuteTime": {
     "start_time": "2024-03-18T13:04:55.683624Z"
    }
   },
   "execution_count": null
  },
  {
   "cell_type": "code",
   "outputs": [],
   "source": [
    "attributions_seq, attributions_pssm = attributions(test_model, dataloader_test)"
   ],
   "metadata": {
    "collapsed": false,
    "ExecuteTime": {
     "start_time": "2024-03-18T13:04:55.683624Z"
    }
   },
   "execution_count": null
  },
  {
   "cell_type": "code",
   "outputs": [],
   "source": [
    "visualize_attributions(attributions_seq, attributions_pssm)"
   ],
   "metadata": {
    "collapsed": false,
    "ExecuteTime": {
     "start_time": "2024-03-18T13:04:55.684624Z"
    }
   }
  },
  {
   "cell_type": "code",
   "outputs": [],
   "source": [],
   "metadata": {
    "collapsed": false,
    "ExecuteTime": {
     "start_time": "2024-03-18T13:04:55.685624Z"
    }
   },
   "execution_count": null
  }
 ]
}
